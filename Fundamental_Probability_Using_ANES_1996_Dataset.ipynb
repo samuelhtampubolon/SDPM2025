{
  "nbformat": 4,
  "nbformat_minor": 0,
  "metadata": {
    "colab": {
      "provenance": [],
      "authorship_tag": "ABX9TyN1OAv8wDuOHOkRdMQVHcw1",
      "include_colab_link": true
    },
    "kernelspec": {
      "name": "python3",
      "display_name": "Python 3"
    },
    "language_info": {
      "name": "python"
    }
  },
  "cells": [
    {
      "cell_type": "markdown",
      "metadata": {
        "id": "view-in-github",
        "colab_type": "text"
      },
      "source": [
        "<a href=\"https://colab.research.google.com/github/samuelhtampubolon/SDPM2025/blob/main/Fundamental_Probability_Using_ANES_1996_Dataset.ipynb\" target=\"_parent\"><img src=\"https://colab.research.google.com/assets/colab-badge.svg\" alt=\"Open In Colab\"/></a>"
      ]
    },
    {
      "cell_type": "code",
      "execution_count": 1,
      "metadata": {
        "id": "3WhY9sZA3DJp"
      },
      "outputs": [],
      "source": [
        "import numpy as np\n",
        "from scipy import stats\n",
        "import statsmodels.api as sm"
      ]
    },
    {
      "cell_type": "code",
      "source": [
        "data = sm.datasets.anes96.load_pandas().data\n",
        "vote = data['vote']\n",
        "pid = data['PID']\n",
        "age = data['age']"
      ],
      "metadata": {
        "id": "-Bh1EoLs3UmU"
      },
      "execution_count": 2,
      "outputs": []
    },
    {
      "cell_type": "code",
      "source": [
        "#Empirical Probability\n",
        "p_vote1 = np.mean(vote)  # Since 'vote' is 0/1\n",
        "print(p_vote1)"
      ],
      "metadata": {
        "colab": {
          "base_uri": "https://localhost:8080/"
        },
        "id": "ADehHLZn3WXp",
        "outputId": "9412b311-035a-482d-f888-35f9cfe3b247"
      },
      "execution_count": 3,
      "outputs": [
        {
          "output_type": "stream",
          "name": "stdout",
          "text": [
            "0.4163135593220339\n"
          ]
        }
      ]
    },
    {
      "cell_type": "code",
      "source": [
        "#Marginal Probability\n",
        "p_pid0 = sum(pid == 0) / len(pid)\n",
        "print(p_pid0)"
      ],
      "metadata": {
        "colab": {
          "base_uri": "https://localhost:8080/"
        },
        "id": "SSLaDpU03aGB",
        "outputId": "28331db6-1f12-4a08-bbfd-d12adb395f04"
      },
      "execution_count": 4,
      "outputs": [
        {
          "output_type": "stream",
          "name": "stdout",
          "text": [
            "0.211864406779661\n"
          ]
        }
      ]
    },
    {
      "cell_type": "code",
      "source": [
        "#Conditional Probability\n",
        "mask_pid0 = (pid == 0)\n",
        "p_v1_given_pid0 = np.mean(vote[mask_pid0])\n",
        "print(p_v1_given_pid0)"
      ],
      "metadata": {
        "colab": {
          "base_uri": "https://localhost:8080/"
        },
        "id": "B_i6uq2Z3gAS",
        "outputId": "bc428d60-fdec-43c4-e30d-1671f866f1d1"
      },
      "execution_count": 5,
      "outputs": [
        {
          "output_type": "stream",
          "name": "stdout",
          "text": [
            "0.015\n"
          ]
        }
      ]
    },
    {
      "cell_type": "code",
      "source": [
        "#Another Conditional Probability: (For comparison)\n",
        "mask_pid6 = (pid == 6)\n",
        "p_v1_given_pid6 = np.mean(vote[mask_pid6])\n",
        "print(p_v1_given_pid6)"
      ],
      "metadata": {
        "colab": {
          "base_uri": "https://localhost:8080/"
        },
        "id": "yUNQ8B2A3nRi",
        "outputId": "4e39383a-df1b-4088-bb14-82fa17e71b17"
      },
      "execution_count": 6,
      "outputs": [
        {
          "output_type": "stream",
          "name": "stdout",
          "text": [
            "0.9542857142857143\n"
          ]
        }
      ]
    },
    {
      "cell_type": "code",
      "source": [
        "#Joint Probability\n",
        "p_joint = sum((vote == 1) & (pid == 0)) / len(vote)\n",
        "print(p_joint)"
      ],
      "metadata": {
        "colab": {
          "base_uri": "https://localhost:8080/"
        },
        "id": "ikGD1ogG3s_X",
        "outputId": "fb2ecb86-8510-4da5-b84f-2831bba98c63"
      },
      "execution_count": 7,
      "outputs": [
        {
          "output_type": "stream",
          "name": "stdout",
          "text": [
            "0.0031779661016949155\n"
          ]
        }
      ]
    },
    {
      "cell_type": "code",
      "source": [
        "#Bayes' Theorem\n",
        "p_pid0_given_v1 = p_v1_given_pid0 * p_pid0 / p_vote1\n",
        "print(p_pid0_given_v1)"
      ],
      "metadata": {
        "colab": {
          "base_uri": "https://localhost:8080/"
        },
        "id": "f5UZS2nn3xTR",
        "outputId": "65c1d985-365e-4c90-ed9e-542a325d6cca"
      },
      "execution_count": 8,
      "outputs": [
        {
          "output_type": "stream",
          "name": "stdout",
          "text": [
            "0.007633587786259542\n"
          ]
        }
      ]
    },
    {
      "cell_type": "code",
      "source": [
        "#Expected Value\n",
        "exp_age = np.mean(age)\n",
        "print(exp_age)"
      ],
      "metadata": {
        "colab": {
          "base_uri": "https://localhost:8080/"
        },
        "id": "tm9rdxqT31Tl",
        "outputId": "7e80ef19-29ad-408c-cfb6-56969da68fba"
      },
      "execution_count": 9,
      "outputs": [
        {
          "output_type": "stream",
          "name": "stdout",
          "text": [
            "47.043432203389834\n"
          ]
        }
      ]
    },
    {
      "cell_type": "code",
      "source": [
        "#Variance of a Random Variable\n",
        "var_age = np.var(age, ddof=0)\n",
        "print(var_age)"
      ],
      "metadata": {
        "colab": {
          "base_uri": "https://localhost:8080/"
        },
        "id": "briuWSXy37sc",
        "outputId": "7b78a1c4-7e74-4c02-9541-010fa8c852ff"
      },
      "execution_count": 10,
      "outputs": [
        {
          "output_type": "stream",
          "name": "stdout",
          "text": [
            "269.43349499964097\n"
          ]
        }
      ]
    },
    {
      "cell_type": "code",
      "source": [
        "#Probability Density Function (PDF)\n",
        "mean_age = exp_age\n",
        "std_age = np.sqrt(var_age)\n",
        "pdf_50 = stats.norm.pdf(50, mean_age, std_age)\n",
        "print(pdf_50)"
      ],
      "metadata": {
        "colab": {
          "base_uri": "https://localhost:8080/"
        },
        "id": "uYtWO3F64C7T",
        "outputId": "f29a241f-e32e-45d9-bb07-b111d540a773"
      },
      "execution_count": 11,
      "outputs": [
        {
          "output_type": "stream",
          "name": "stdout",
          "text": [
            "0.023913289159697967\n"
          ]
        }
      ]
    },
    {
      "cell_type": "code",
      "source": [
        "#Cumulative Distribution Function (CDF)\n",
        "cdf_50 = stats.norm.cdf(50, mean_age, std_age)\n",
        "print(cdf_50)"
      ],
      "metadata": {
        "colab": {
          "base_uri": "https://localhost:8080/"
        },
        "id": "7E3sLOYW4Gf5",
        "outputId": "fb3f98a6-64e1-4288-9f24-80e80dde1ebf"
      },
      "execution_count": 12,
      "outputs": [
        {
          "output_type": "stream",
          "name": "stdout",
          "text": [
            "0.5714708373326399\n"
          ]
        }
      ]
    },
    {
      "cell_type": "code",
      "source": [
        "#Probability Mass Function (PMF)\n",
        "pmf_1 = stats.bernoulli.pmf(1, p_vote1)\n",
        "print(pmf_1)"
      ],
      "metadata": {
        "colab": {
          "base_uri": "https://localhost:8080/"
        },
        "id": "WhDn_2eF4Nbe",
        "outputId": "36066458-158b-498b-d1be-cc86914f6206"
      },
      "execution_count": 13,
      "outputs": [
        {
          "output_type": "stream",
          "name": "stdout",
          "text": [
            "0.4163135593220339\n"
          ]
        }
      ]
    },
    {
      "cell_type": "code",
      "source": [],
      "metadata": {
        "id": "5we_xgBy4UEQ"
      },
      "execution_count": null,
      "outputs": []
    }
  ]
}