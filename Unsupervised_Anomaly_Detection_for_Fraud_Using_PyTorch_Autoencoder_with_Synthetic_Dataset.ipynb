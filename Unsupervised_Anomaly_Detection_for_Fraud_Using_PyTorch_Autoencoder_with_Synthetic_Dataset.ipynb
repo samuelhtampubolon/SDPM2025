{
  "nbformat": 4,
  "nbformat_minor": 0,
  "metadata": {
    "colab": {
      "provenance": [],
      "authorship_tag": "ABX9TyP2gIhS5+8fhFCNuUt8qcYn",
      "include_colab_link": true
    },
    "kernelspec": {
      "name": "python3",
      "display_name": "Python 3"
    },
    "language_info": {
      "name": "python"
    }
  },
  "cells": [
    {
      "cell_type": "markdown",
      "metadata": {
        "id": "view-in-github",
        "colab_type": "text"
      },
      "source": [
        "<a href=\"https://colab.research.google.com/github/samuelhtampubolon/SDPM2025/blob/main/Unsupervised_Anomaly_Detection_for_Fraud_Using_PyTorch_Autoencoder_with_Synthetic_Dataset.ipynb\" target=\"_parent\"><img src=\"https://colab.research.google.com/assets/colab-badge.svg\" alt=\"Open In Colab\"/></a>"
      ]
    },
    {
      "cell_type": "code",
      "execution_count": 1,
      "metadata": {
        "id": "ORrK8TNnxWQN"
      },
      "outputs": [],
      "source": [
        "import numpy as np\n",
        "import torch\n",
        "import torch.nn as nn\n",
        "import torch.optim as optim\n",
        "\n",
        "# Generate synthetic data (train on normal, test with fraud)\n",
        "np.random.seed(42)\n",
        "normal = np.random.normal(0, 1, (950, 2))\n",
        "fraud = np.random.normal(5, 1, (50, 2))\n",
        "X_test = np.vstack((normal[:50], fraud))  # Test set\n",
        "\n",
        "X_normal = torch.from_numpy(normal).float()\n",
        "X_test_tensor = torch.from_numpy(X_test).float()"
      ]
    },
    {
      "cell_type": "code",
      "source": [
        "# Autoencoder model\n",
        "class Autoencoder(nn.Module):\n",
        "    def __init__(self):\n",
        "        super().__init__()\n",
        "        self.encoder = nn.Linear(2, 5)\n",
        "        self.decoder = nn.Linear(5, 2)\n",
        "\n",
        "    def forward(self, x):\n",
        "        return self.decoder(torch.relu(self.encoder(x)))\n",
        "\n",
        "model = Autoencoder()\n",
        "criterion = nn.MSELoss()\n",
        "optimizer = optim.Adam(model.parameters())"
      ],
      "metadata": {
        "id": "r__lPOHsyWI3"
      },
      "execution_count": 2,
      "outputs": []
    },
    {
      "cell_type": "code",
      "source": [
        "# Training on normal data\n",
        "for epoch in range(100):\n",
        "    optimizer.zero_grad()\n",
        "    out = model(X_normal)\n",
        "    loss = criterion(out, X_normal)\n",
        "    loss.backward()\n",
        "    optimizer.step()"
      ],
      "metadata": {
        "id": "0zNrPBe1ymK3"
      },
      "execution_count": 3,
      "outputs": []
    },
    {
      "cell_type": "code",
      "source": [
        "# Detect anomalies by reconstruction error\n",
        "with torch.no_grad():\n",
        "    errors = torch.mean((model(X_test_tensor) - X_test_tensor)**2, dim=1)\n",
        "threshold = errors.mean() + 3 * errors.std()\n",
        "anomalies = errors > threshold\n",
        "print(\"Detected frauds:\", anomalies.sum().item())"
      ],
      "metadata": {
        "colab": {
          "base_uri": "https://localhost:8080/"
        },
        "id": "RJ8Qs_CTyp1f",
        "outputId": "f5caeb41-25b9-40f5-af6f-331f6dea2b5b"
      },
      "execution_count": 4,
      "outputs": [
        {
          "output_type": "stream",
          "name": "stdout",
          "text": [
            "Detected frauds: 1\n"
          ]
        }
      ]
    }
  ]
}