{
  "nbformat": 4,
  "nbformat_minor": 0,
  "metadata": {
    "colab": {
      "provenance": [],
      "authorship_tag": "ABX9TyO7BkHzdCaKXohbEVR6AQRm",
      "include_colab_link": true
    },
    "kernelspec": {
      "name": "python3",
      "display_name": "Python 3"
    },
    "language_info": {
      "name": "python"
    }
  },
  "cells": [
    {
      "cell_type": "markdown",
      "metadata": {
        "id": "view-in-github",
        "colab_type": "text"
      },
      "source": [
        "<a href=\"https://colab.research.google.com/github/samuelhtampubolon/SDPM2025/blob/main/Pinjaman_Bank_B.ipynb\" target=\"_parent\"><img src=\"https://colab.research.google.com/assets/colab-badge.svg\" alt=\"Open In Colab\"/></a>"
      ]
    },
    {
      "cell_type": "code",
      "execution_count": 6,
      "metadata": {
        "id": "cfjFhOPxuyZl"
      },
      "outputs": [],
      "source": [
        "import pandas as pd\n",
        "import numpy as np\n",
        "\n",
        "# Langkah 1: Baca file\n",
        "file_path = '/content/sample_data/Pinjaman_Bank_B.xlsx'\n",
        "df = pd.read_excel(file_path)"
      ]
    },
    {
      "cell_type": "code",
      "source": [
        "# Langkah 2: Konversi kolom numerik, handle format salah (komma, 'Invalid')\n",
        "numeric_cols = ['Age', 'Annual_Income', 'Loan_Amount', 'Loan_Term_Months',\n",
        "                'Interest_Rate', 'Credit_Score', 'Employment_Years']\n",
        "\n",
        "for col in numeric_cols:\n",
        "    # Hapus komma dan konversi ke numeric, errors='coerce' ubah invalid ke NaN\n",
        "    if col == 'Annual_Income':\n",
        "        df[col] = df[col].astype(str).str.replace(',', '').replace('Invalid', np.nan)\n",
        "    else:\n",
        "        df[col] = df[col].astype(str).replace('Invalid', np.nan)\n",
        "    df[col] = pd.to_numeric(df[col], errors='coerce')"
      ],
      "metadata": {
        "id": "4X1eUSGYvp1_"
      },
      "execution_count": 7,
      "outputs": []
    },
    {
      "cell_type": "code",
      "source": [
        "# Langkah 3: Handle nilai negatif (ubah ke NaN, karena tidak masuk akal)\n",
        "for col in ['Age', 'Annual_Income', 'Loan_Amount', 'Loan_Term_Months', 'Employment_Years']:\n",
        "    df[col] = df[col].apply(lambda x: np.nan if x < 0 else x)"
      ],
      "metadata": {
        "id": "0u5FkaaawaUi"
      },
      "execution_count": 8,
      "outputs": []
    },
    {
      "cell_type": "code",
      "source": [
        "# Langkah 4: Handle missing values (imputasi)\n",
        "# Numerik: Gunakan median\n",
        "for col in numeric_cols:\n",
        "    df[col].fillna(df[col].median(), inplace=True)\n",
        "\n",
        "# Kategorikal: Gunakan mode\n",
        "categorical_cols = ['Gender', 'Loan_Status']\n",
        "for col in categorical_cols:\n",
        "    mode_val = df[col].mode()[0] if not df[col].mode().empty else 'Unknown'\n",
        "    df[col].fillna(mode_val, inplace=True)"
      ],
      "metadata": {
        "colab": {
          "base_uri": "https://localhost:8080/"
        },
        "id": "s1Fv2C2GweXR",
        "outputId": "0f3ef252-b3d7-4301-f19c-6dfed5af782a"
      },
      "execution_count": 9,
      "outputs": [
        {
          "output_type": "stream",
          "name": "stderr",
          "text": [
            "/tmp/ipython-input-1324421642.py:4: FutureWarning: A value is trying to be set on a copy of a DataFrame or Series through chained assignment using an inplace method.\n",
            "The behavior will change in pandas 3.0. This inplace method will never work because the intermediate object on which we are setting values always behaves as a copy.\n",
            "\n",
            "For example, when doing 'df[col].method(value, inplace=True)', try using 'df.method({col: value}, inplace=True)' or df[col] = df[col].method(value) instead, to perform the operation inplace on the original object.\n",
            "\n",
            "\n",
            "  df[col].fillna(df[col].median(), inplace=True)\n",
            "/tmp/ipython-input-1324421642.py:10: FutureWarning: A value is trying to be set on a copy of a DataFrame or Series through chained assignment using an inplace method.\n",
            "The behavior will change in pandas 3.0. This inplace method will never work because the intermediate object on which we are setting values always behaves as a copy.\n",
            "\n",
            "For example, when doing 'df[col].method(value, inplace=True)', try using 'df.method({col: value}, inplace=True)' or df[col] = df[col].method(value) instead, to perform the operation inplace on the original object.\n",
            "\n",
            "\n",
            "  df[col].fillna(mode_val, inplace=True)\n"
          ]
        }
      ]
    },
    {
      "cell_type": "code",
      "source": [
        "# Langkah 5: Koreksi kategori tidak valid (misalnya 'Unknown' di Gender ganti ke mode)\n",
        "df['Gender'] = df['Gender'].replace('Unknown', df['Gender'].mode()[0])"
      ],
      "metadata": {
        "id": "cBEjxr5Rwhtl"
      },
      "execution_count": 10,
      "outputs": []
    },
    {
      "cell_type": "code",
      "source": [
        "# Langkah 6: Handle outliers (clip ke rentang wajar)\n",
        "df['Age'] = df['Age'].clip(18, 100)\n",
        "df['Annual_Income'] = df['Annual_Income'].clip(0, 1000000)  # Asumsi max 1 juta\n",
        "df['Loan_Amount'] = df['Loan_Amount'].clip(0, 1000000)\n",
        "df['Loan_Term_Months'] = df['Loan_Term_Months'].clip(12, 360)\n",
        "df['Interest_Rate'] = df['Interest_Rate'].clip(0, 20)\n",
        "df['Credit_Score'] = df['Credit_Score'].clip(300, 850)\n",
        "df['Employment_Years'] = df['Employment_Years'].clip(0, 50)"
      ],
      "metadata": {
        "id": "wy8seMLIwmsB"
      },
      "execution_count": 11,
      "outputs": []
    },
    {
      "cell_type": "code",
      "source": [
        "# Langkah 7: Hapus duplikat baris\n",
        "df.drop_duplicates(inplace=True)"
      ],
      "metadata": {
        "id": "asinTcURwpjg"
      },
      "execution_count": 12,
      "outputs": []
    },
    {
      "cell_type": "code",
      "source": [
        "# Langkah 8: Konversi tipe data akhir (pastikan numerik adalah float/int)\n",
        "for col in numeric_cols:\n",
        "    if col in ['Age', 'Loan_Term_Months', 'Credit_Score', 'Employment_Years']:\n",
        "        df[col] = df[col].astype(int)\n",
        "    else:\n",
        "        df[col] = df[col].astype(float)"
      ],
      "metadata": {
        "id": "RmwL6Ajswrgb"
      },
      "execution_count": 13,
      "outputs": []
    },
    {
      "cell_type": "code",
      "source": [
        "# Langkah 9: Simpan ke file CSV baru\n",
        "df.to_csv('loan_data_cleaned.csv', index=False)\n",
        "\n",
        "# Tampilkan preview data cleaned\n",
        "print(df.head())\n",
        "print(\"\\nShape setelah cleaning:\", df.shape)"
      ],
      "metadata": {
        "colab": {
          "base_uri": "https://localhost:8080/"
        },
        "id": "cJZqAfkewtxX",
        "outputId": "04890953-1c29-4048-bb26-41d77870943e"
      },
      "execution_count": 14,
      "outputs": [
        {
          "output_type": "stream",
          "name": "stdout",
          "text": [
            "  Loan_ID Borrower_Name  Age Gender  Annual_Income  Loan_Amount  \\\n",
            "0   L0001    Borrower 1   56  Other        87172.0     444430.0   \n",
            "1   L0002    Borrower 2   69  Other       113264.0     497738.0   \n",
            "2   L0003    Borrower 3   46  Other        46736.0      91416.0   \n",
            "3   L0004    Borrower 4   32   Male       132859.0     337415.0   \n",
            "4   L0005    Borrower 5   60  Other       132181.0     311208.0   \n",
            "\n",
            "   Loan_Term_Months  Interest_Rate  Credit_Score  Employment_Years Loan_Status  \n",
            "0                48          12.85           512                28    Approved  \n",
            "1                12          10.82           502                 3    Rejected  \n",
            "2                96           5.48           528                 9    Rejected  \n",
            "3                36           6.29           552                16    Rejected  \n",
            "4                84           5.58           831                 9    Approved  \n",
            "\n",
            "Shape setelah cleaning: (109, 11)\n"
          ]
        }
      ]
    },
    {
      "cell_type": "code",
      "source": [],
      "metadata": {
        "id": "p9n0ZLRKwuUG"
      },
      "execution_count": null,
      "outputs": []
    }
  ]
}