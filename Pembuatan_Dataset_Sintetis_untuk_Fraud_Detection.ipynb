{
  "nbformat": 4,
  "nbformat_minor": 0,
  "metadata": {
    "colab": {
      "provenance": [],
      "authorship_tag": "ABX9TyMqEfL8XF4TWFkNPlQ3/AQK",
      "include_colab_link": true
    },
    "kernelspec": {
      "name": "python3",
      "display_name": "Python 3"
    },
    "language_info": {
      "name": "python"
    }
  },
  "cells": [
    {
      "cell_type": "markdown",
      "metadata": {
        "id": "view-in-github",
        "colab_type": "text"
      },
      "source": [
        "<a href=\"https://colab.research.google.com/github/samuelhtampubolon/SDPM2025/blob/main/Pembuatan_Dataset_Sintetis_untuk_Fraud_Detection.ipynb\" target=\"_parent\"><img src=\"https://colab.research.google.com/assets/colab-badge.svg\" alt=\"Open In Colab\"/></a>"
      ]
    },
    {
      "cell_type": "code",
      "execution_count": 1,
      "metadata": {
        "colab": {
          "base_uri": "https://localhost:8080/"
        },
        "id": "owsHa7YPw7kr",
        "outputId": "f50be062-7e93-407e-d5ae-8e8cc92cc3b8"
      },
      "outputs": [
        {
          "output_type": "stream",
          "name": "stdout",
          "text": [
            "            Time        V1        V2        V3        V4        V5        V6  \\\n",
            "0   64720.532537 -0.616148 -0.392675 -1.031827 -0.889252  0.434377  0.131615   \n",
            "1  164283.432148  2.096161 -0.478696 -1.153659 -0.093621  0.907861  0.017414   \n",
            "2  126488.553145  1.396466 -2.077160  0.797252 -1.539055  1.228328 -0.637026   \n",
            "3  103448.186069  1.094573  1.132842  1.105314  0.044502 -0.716195  0.191362   \n",
            "4   26960.021068  1.653635 -0.534751 -0.188487 -0.411280 -0.671511 -1.841495   \n",
            "\n",
            "         V7        V8        V9  ...       V21       V22       V23       V24  \\\n",
            "0  0.491587  0.214014  0.704339  ... -1.865840  0.028469  0.979036 -0.643154   \n",
            "1  0.485594 -0.871511  1.487688  ... -0.697031  0.284840  1.140963  0.451662   \n",
            "2 -1.217671  0.695269  0.364170  ...  2.018097 -1.187601  1.191235  1.070858   \n",
            "3  0.942230  1.024352 -0.429676  ...  0.749555 -0.274111 -1.721047 -0.982416   \n",
            "4 -0.014748 -1.285566 -0.034172  ...  0.971088 -1.403698  0.962607 -0.353818   \n",
            "\n",
            "        V25       V26       V27       V28      Amount  Class  \n",
            "0 -1.226561 -0.185806 -0.060685 -0.908652   12.331270    0.0  \n",
            "1 -0.319512  0.514861 -0.359976  0.412114   17.722126    0.0  \n",
            "2  0.854317  1.291748  0.280575 -0.582929   80.545232    0.0  \n",
            "3 -0.430415  1.368189  0.901144  1.623861   16.879952    0.0  \n",
            "4 -1.231869  0.579299  0.928768 -0.438079  166.107356    0.0  \n",
            "\n",
            "[5 rows x 31 columns]\n",
            "Class\n",
            "0.0    9955\n",
            "1.0      45\n",
            "Name: count, dtype: int64\n"
          ]
        }
      ],
      "source": [
        "import numpy as np\n",
        "import pandas as pd\n",
        "\n",
        "np.random.seed(42)\n",
        "n_samples = 10000\n",
        "time = np.random.uniform(0, 172800, n_samples)  # Simulasi waktu transaksi (2 hari)\n",
        "amount = np.random.lognormal(mean=4, sigma=1, size=n_samples)  # Simulasi jumlah transaksi (skewed)\n",
        "v_features = np.random.normal(0, 1, (n_samples, 28))  # Simulasi fitur PCA (V1-V28)\n",
        "is_fraud = np.random.binomial(1, 0.005, n_samples)  # 0.5% fraud (imbalanced)\n",
        "\n",
        "df = pd.DataFrame(np.hstack((time.reshape(-1,1), v_features, amount.reshape(-1,1), is_fraud.reshape(-1,1))),\n",
        "                  columns=['Time'] + [f'V{i}' for i in range(1,29)] + ['Amount', 'Class'])\n",
        "print(df.head())\n",
        "print(df['Class'].value_counts())"
      ]
    },
    {
      "cell_type": "code",
      "source": [],
      "metadata": {
        "id": "J4jKKVC2xQBQ"
      },
      "execution_count": null,
      "outputs": []
    }
  ]
}