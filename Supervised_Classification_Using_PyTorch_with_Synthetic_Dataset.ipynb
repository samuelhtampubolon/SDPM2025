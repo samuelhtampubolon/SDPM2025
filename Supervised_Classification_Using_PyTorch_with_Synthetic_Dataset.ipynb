{
  "nbformat": 4,
  "nbformat_minor": 0,
  "metadata": {
    "colab": {
      "provenance": [],
      "authorship_tag": "ABX9TyPPY9Fme7S8If0fCua1rQNs",
      "include_colab_link": true
    },
    "kernelspec": {
      "name": "python3",
      "display_name": "Python 3"
    },
    "language_info": {
      "name": "python"
    }
  },
  "cells": [
    {
      "cell_type": "markdown",
      "metadata": {
        "id": "view-in-github",
        "colab_type": "text"
      },
      "source": [
        "<a href=\"https://colab.research.google.com/github/samuelhtampubolon/SDPM2025/blob/main/Supervised_Classification_Using_PyTorch_with_Synthetic_Dataset.ipynb\" target=\"_parent\"><img src=\"https://colab.research.google.com/assets/colab-badge.svg\" alt=\"Open In Colab\"/></a>"
      ]
    },
    {
      "cell_type": "code",
      "execution_count": 1,
      "metadata": {
        "id": "VsQu23KYMapV"
      },
      "outputs": [],
      "source": [
        "import numpy as np\n",
        "import torch\n",
        "import torch.nn as nn\n",
        "import torch.optim as optim\n",
        "\n",
        "# Synthetic classification dataset (2 classes)\n",
        "np.random.seed(42)\n",
        "class0 = np.random.normal(0, 1, (100, 2))\n",
        "class1 = np.random.normal(3, 1, (100, 2))\n",
        "X = np.vstack((class0, class1))\n",
        "y = np.hstack((np.zeros(100), np.ones(100)))\n",
        "\n",
        "X_tensor = torch.from_numpy(X).float()\n",
        "y_tensor = torch.from_numpy(y).long()"
      ]
    },
    {
      "cell_type": "code",
      "source": [
        "# Neural network model\n",
        "model = nn.Sequential(\n",
        "    nn.Linear(2, 10),\n",
        "    nn.ReLU(),\n",
        "    nn.Linear(10, 2)\n",
        ")\n",
        "\n",
        "criterion = nn.CrossEntropyLoss()\n",
        "optimizer = optim.Adam(model.parameters())"
      ],
      "metadata": {
        "id": "seN0FVxVMdxB"
      },
      "execution_count": 2,
      "outputs": []
    },
    {
      "cell_type": "code",
      "source": [
        "# Training loop\n",
        "for epoch in range(100):\n",
        "    optimizer.zero_grad()\n",
        "    out = model(X_tensor)\n",
        "    loss = criterion(out, y_tensor)\n",
        "    loss.backward()\n",
        "    optimizer.step()"
      ],
      "metadata": {
        "id": "XVaGSGfGMkiA"
      },
      "execution_count": 3,
      "outputs": []
    },
    {
      "cell_type": "code",
      "source": [
        "# Prediction accuracy\n",
        "with torch.no_grad():\n",
        "    preds = torch.argmax(model(X_tensor), dim=1)\n",
        "print(\"Accuracy:\", (preds == y_tensor).float().mean().item())"
      ],
      "metadata": {
        "colab": {
          "base_uri": "https://localhost:8080/"
        },
        "id": "aZYDeq9ZMo9u",
        "outputId": "5cc96fa5-e218-402d-daef-8bbdc4e15ef6"
      },
      "execution_count": 4,
      "outputs": [
        {
          "output_type": "stream",
          "name": "stdout",
          "text": [
            "Accuracy: 0.6899999976158142\n"
          ]
        }
      ]
    },
    {
      "cell_type": "code",
      "source": [],
      "metadata": {
        "id": "u5a7U-oQMp7s"
      },
      "execution_count": null,
      "outputs": []
    }
  ]
}