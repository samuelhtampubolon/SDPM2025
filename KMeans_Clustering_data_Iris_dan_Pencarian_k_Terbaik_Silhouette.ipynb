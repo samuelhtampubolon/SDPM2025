{
  "nbformat": 4,
  "nbformat_minor": 0,
  "metadata": {
    "colab": {
      "provenance": [],
      "authorship_tag": "ABX9TyMIZEec5i1iFZGqQoGcuFqR",
      "include_colab_link": true
    },
    "kernelspec": {
      "name": "python3",
      "display_name": "Python 3"
    },
    "language_info": {
      "name": "python"
    }
  },
  "cells": [
    {
      "cell_type": "markdown",
      "metadata": {
        "id": "view-in-github",
        "colab_type": "text"
      },
      "source": [
        "<a href=\"https://colab.research.google.com/github/samuelhtampubolon/SDPM2025/blob/main/KMeans_Clustering_data_Iris_dan_Pencarian_k_Terbaik_Silhouette.ipynb\" target=\"_parent\"><img src=\"https://colab.research.google.com/assets/colab-badge.svg\" alt=\"Open In Colab\"/></a>"
      ]
    },
    {
      "cell_type": "code",
      "execution_count": 1,
      "metadata": {
        "id": "I5iYCCe_loWG"
      },
      "outputs": [],
      "source": [
        "# Clustering multi-k, pilih k terbaik pakai silhouette; ARI hanya sebagai referensi (unsupervised tetap).\n",
        "from sklearn.datasets import load_iris\n",
        "from sklearn.preprocessing import StandardScaler\n",
        "from sklearn.cluster import KMeans\n",
        "from sklearn.metrics import silhouette_score, adjusted_rand_score\n",
        "import numpy as np\n",
        "\n",
        "X, y = load_iris(return_X_y=True)\n",
        "X = StandardScaler().fit_transform(X)\n",
        "\n",
        "best = {\"k\": None, \"score\": -1, \"labels\": None}\n",
        "for k in range(2, 9):\n",
        "    km = KMeans(n_clusters=k, n_init=10, random_state=42)\n",
        "    labels = km.fit_predict(X)\n",
        "    if len(set(labels)) <= 1:  # cegah kasus 1 cluster\n",
        "        continue\n",
        "    s = silhouette_score(X, labels)\n",
        "    if s > best[\"score\"]:\n",
        "        best.update(k=k, score=s, labels=labels)"
      ]
    },
    {
      "cell_type": "code",
      "source": [
        "print(f\"Best k: {best['k']} | Silhouette: {best['score']:.3f}\")\n",
        "print(\"Cluster sizes:\", np.bincount(best[\"labels\"]))\n",
        "print(\"ARI vs true species (referensi):\", adjusted_rand_score(y, best[\"labels\"]))"
      ],
      "metadata": {
        "colab": {
          "base_uri": "https://localhost:8080/"
        },
        "id": "t3JlotwblzUK",
        "outputId": "796275af-7890-41e5-b6bd-2d6413c89e1b"
      },
      "execution_count": 2,
      "outputs": [
        {
          "output_type": "stream",
          "name": "stdout",
          "text": [
            "Best k: 2 | Silhouette: 0.582\n",
            "Cluster sizes: [100  50]\n",
            "ARI vs true species (referensi): 0.5681159420289855\n"
          ]
        }
      ]
    },
    {
      "cell_type": "code",
      "source": [],
      "metadata": {
        "id": "5OEs_WZhl4qs"
      },
      "execution_count": null,
      "outputs": []
    }
  ]
}