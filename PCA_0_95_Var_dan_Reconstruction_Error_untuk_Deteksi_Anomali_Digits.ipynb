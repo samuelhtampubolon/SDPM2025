{
  "nbformat": 4,
  "nbformat_minor": 0,
  "metadata": {
    "colab": {
      "provenance": [],
      "authorship_tag": "ABX9TyOCYjNACXw8Bbfcirg0zLgJ",
      "include_colab_link": true
    },
    "kernelspec": {
      "name": "python3",
      "display_name": "Python 3"
    },
    "language_info": {
      "name": "python"
    }
  },
  "cells": [
    {
      "cell_type": "markdown",
      "metadata": {
        "id": "view-in-github",
        "colab_type": "text"
      },
      "source": [
        "<a href=\"https://colab.research.google.com/github/samuelhtampubolon/SDPM2025/blob/main/PCA_0_95_Var_dan_Reconstruction_Error_untuk_Deteksi_Anomali_Digits.ipynb\" target=\"_parent\"><img src=\"https://colab.research.google.com/assets/colab-badge.svg\" alt=\"Open In Colab\"/></a>"
      ]
    },
    {
      "cell_type": "code",
      "execution_count": 1,
      "metadata": {
        "id": "ei8Kq5c_nBn6"
      },
      "outputs": [],
      "source": [
        "# Reduksi dimensi + deteksi anomali berbasis reconstruction error (unsupervised).\n",
        "from sklearn.datasets import load_digits\n",
        "from sklearn.preprocessing import StandardScaler\n",
        "from sklearn.decomposition import PCA\n",
        "import numpy as np\n",
        "import pandas as pd\n",
        "\n",
        "X, y = load_digits(return_X_y=True)\n",
        "\n",
        "# Standarisasi lalu PCA simpan 95% variansi\n",
        "Xz = StandardScaler().fit_transform(X)\n",
        "pca = PCA(n_components=0.95, random_state=42)\n",
        "Z = pca.fit_transform(Xz)\n",
        "X_rec = pca.inverse_transform(Z)\n",
        "\n",
        "# Reconstruction error (MSE per sampel) sebagai skor anomali\n",
        "err = ((Xz - X_rec) ** 2).mean(axis=1)\n",
        "\n",
        "# Threshold kuantil (misal 95% -> ~5% paling anomali)\n",
        "q = 0.95\n",
        "thr = np.quantile(err, q)\n",
        "anom_idx = np.where(err >= thr)[0]"
      ]
    },
    {
      "cell_type": "code",
      "source": [
        "print(f\"PCA components kept: {pca.n_components_}\")\n",
        "print(f\"Threshold@{q:.2f} = {thr:.4f}; anomalies = {len(anom_idx)}/{len(X)}\")"
      ],
      "metadata": {
        "colab": {
          "base_uri": "https://localhost:8080/"
        },
        "id": "95vQXmnVnJ9T",
        "outputId": "adf8ebfb-d038-4ff0-c556-310d60f3779f"
      },
      "execution_count": 2,
      "outputs": [
        {
          "output_type": "stream",
          "name": "stdout",
          "text": [
            "PCA components kept: 40\n",
            "Threshold@0.95 = 0.0933; anomalies = 90/1797\n"
          ]
        }
      ]
    },
    {
      "cell_type": "code",
      "source": [
        "# (Opsional) distribusi label digit untuk anomali — hanya referensi, tidak dipakai melatih\n",
        "print(\"Anomaly class distribution (reference):\")\n",
        "print(pd.Series(y[anom_idx]).value_counts(normalize=True).sort_index())"
      ],
      "metadata": {
        "id": "ZBZ9m_49nRUe",
        "outputId": "d414715b-b8a4-4b56-835c-13fe5a54dabf",
        "colab": {
          "base_uri": "https://localhost:8080/"
        }
      },
      "execution_count": 3,
      "outputs": [
        {
          "output_type": "stream",
          "name": "stdout",
          "text": [
            "Anomaly class distribution (reference):\n",
            "1    0.077778\n",
            "2    0.111111\n",
            "3    0.066667\n",
            "4    0.144444\n",
            "5    0.166667\n",
            "6    0.033333\n",
            "7    0.211111\n",
            "8    0.122222\n",
            "9    0.066667\n",
            "Name: proportion, dtype: float64\n"
          ]
        }
      ]
    },
    {
      "cell_type": "code",
      "source": [],
      "metadata": {
        "id": "J2vIPAd-nSAl"
      },
      "execution_count": null,
      "outputs": []
    }
  ]
}