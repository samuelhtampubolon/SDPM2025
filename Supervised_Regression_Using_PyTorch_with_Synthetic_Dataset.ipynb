{
  "nbformat": 4,
  "nbformat_minor": 0,
  "metadata": {
    "colab": {
      "provenance": [],
      "authorship_tag": "ABX9TyP+yX4opUHAMjkvb3874jAk",
      "include_colab_link": true
    },
    "kernelspec": {
      "name": "python3",
      "display_name": "Python 3"
    },
    "language_info": {
      "name": "python"
    }
  },
  "cells": [
    {
      "cell_type": "markdown",
      "metadata": {
        "id": "view-in-github",
        "colab_type": "text"
      },
      "source": [
        "<a href=\"https://colab.research.google.com/github/samuelhtampubolon/SDPM2025/blob/main/Supervised_Regression_Using_PyTorch_with_Synthetic_Dataset.ipynb\" target=\"_parent\"><img src=\"https://colab.research.google.com/assets/colab-badge.svg\" alt=\"Open In Colab\"/></a>"
      ]
    },
    {
      "cell_type": "code",
      "execution_count": 1,
      "metadata": {
        "id": "mCV4dFznNJYe"
      },
      "outputs": [],
      "source": [
        "import numpy as np\n",
        "import torch\n",
        "import torch.nn as nn\n",
        "import torch.optim as optim\n",
        "\n",
        "# Synthetic regression dataset (linear with noise)\n",
        "np.random.seed(42)\n",
        "X = np.random.uniform(0, 10, 100).reshape(-1, 1)\n",
        "y = 2 * X + np.random.normal(0, 1, 100).reshape(-1, 1)\n",
        "\n",
        "X_tensor = torch.from_numpy(X).float()\n",
        "y_tensor = torch.from_numpy(y).float()"
      ]
    },
    {
      "cell_type": "code",
      "source": [
        "# Linear regression model\n",
        "model = nn.Linear(1, 1)\n",
        "\n",
        "criterion = nn.MSELoss()\n",
        "optimizer = optim.SGD(model.parameters(), lr=0.01)"
      ],
      "metadata": {
        "id": "I8oIiYbeNMaK"
      },
      "execution_count": 2,
      "outputs": []
    },
    {
      "cell_type": "code",
      "source": [
        "# Training loop\n",
        "for epoch in range(100):\n",
        "    optimizer.zero_grad()\n",
        "    out = model(X_tensor)\n",
        "    loss = criterion(out, y_tensor)\n",
        "    loss.backward()\n",
        "    optimizer.step()"
      ],
      "metadata": {
        "id": "89haeM-pNOoo"
      },
      "execution_count": 4,
      "outputs": []
    },
    {
      "cell_type": "code",
      "source": [
        " #Example prediction\n",
        "with torch.no_grad():\n",
        "    print(\"Predicted for X=5:\", model(torch.tensor([[5.0]])).item())"
      ],
      "metadata": {
        "colab": {
          "base_uri": "https://localhost:8080/"
        },
        "id": "y_FlkY62NWpM",
        "outputId": "b03d0014-01f7-4e26-c884-7fab7bb7e5af"
      },
      "execution_count": 6,
      "outputs": [
        {
          "output_type": "stream",
          "name": "stdout",
          "text": [
            "Predicted for X=5: 9.969383239746094\n"
          ]
        }
      ]
    }
  ]
}