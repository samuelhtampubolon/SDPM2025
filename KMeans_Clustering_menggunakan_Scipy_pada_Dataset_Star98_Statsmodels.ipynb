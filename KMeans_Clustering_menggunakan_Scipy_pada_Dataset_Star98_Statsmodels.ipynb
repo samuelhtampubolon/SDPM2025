{
  "nbformat": 4,
  "nbformat_minor": 0,
  "metadata": {
    "colab": {
      "provenance": [],
      "authorship_tag": "ABX9TyPstUDtnaC/9MXkXaFpqfvt",
      "include_colab_link": true
    },
    "kernelspec": {
      "name": "python3",
      "display_name": "Python 3"
    },
    "language_info": {
      "name": "python"
    }
  },
  "cells": [
    {
      "cell_type": "markdown",
      "metadata": {
        "id": "view-in-github",
        "colab_type": "text"
      },
      "source": [
        "<a href=\"https://colab.research.google.com/github/samuelhtampubolon/SDPM2025/blob/main/KMeans_Clustering_menggunakan_Scipy_pada_Dataset_Star98_Statsmodels.ipynb\" target=\"_parent\"><img src=\"https://colab.research.google.com/assets/colab-badge.svg\" alt=\"Open In Colab\"/></a>"
      ]
    },
    {
      "cell_type": "code",
      "execution_count": 1,
      "metadata": {
        "id": "mjJlqImCoAki"
      },
      "outputs": [],
      "source": [
        "import statsmodels.api as sm\n",
        "import numpy as np\n",
        "from scipy.cluster.vq import whiten, kmeans, vq\n",
        "\n",
        "# Load built-in dataset\n",
        "data = sm.datasets.star98.load_pandas().data\n",
        "X = data.to_numpy()  # All features"
      ]
    },
    {
      "cell_type": "code",
      "source": [
        "# Whiten data\n",
        "X_whitened = whiten(X)"
      ],
      "metadata": {
        "id": "4_A43LIqoEAE"
      },
      "execution_count": 2,
      "outputs": []
    },
    {
      "cell_type": "code",
      "source": [
        "# K-Means with 3 clusters\n",
        "centroids, distortion = kmeans(X_whitened, 3)"
      ],
      "metadata": {
        "id": "Y_eI6wWroJH9"
      },
      "execution_count": 3,
      "outputs": []
    },
    {
      "cell_type": "code",
      "source": [
        "# Assign clusters\n",
        "cluster_idx, _ = vq(X_whitened, centroids)\n",
        "print(\"Cluster assignments:\", cluster_idx)\n",
        "print(\"Distortion:\", distortion)"
      ],
      "metadata": {
        "colab": {
          "base_uri": "https://localhost:8080/"
        },
        "id": "S_bD3sy4oLEX",
        "outputId": "51e6ff2d-4cc1-4437-a14f-0787e31c889a"
      },
      "execution_count": 4,
      "outputs": [
        {
          "output_type": "stream",
          "name": "stdout",
          "text": [
            "Cluster assignments: [2 2 2 2 1 2 1 2 0 0 1 2 0 0 2 2 0 0 2 2 0 0 0 0 0 0 0 0 2 2 2 1 2 0 2 0 0\n",
            " 0 0 1 2 0 0 1 0 0 0 0 0 1 1 2 0 2 2 1 2 2 1 1 1 1 0 0 0 2 0 2 2 0 2 2 0 2\n",
            " 1 0 0 0 2 0 0 0 2 2 1 2 1 1 1 0 2 2 0 2 2 2 2 0 1 1 2 0 2 1 2 2 1 1 1 0 1\n",
            " 1 2 1 1 1 2 2 2 0 2 0 1 1 1 2 0 0 2 2 0 0 2 2 2 0 2 2 2 2 2 0 0 0 0 0 0 0\n",
            " 2 2 2 1 2 2 0 2 0 2 2 2 0 2 2 2 2 1 2 0 0 2 2 0 0 2 0 0 0 0 0 0 0 0 0 0 0\n",
            " 0 1 0 0 0 0 0 0 0 2 1 2 2 0 0 0 0 0 0 0 0 2 0 0 2 0 0 0 0 0 0 0 0 0 2 0 2\n",
            " 2 0 2 0 1 0 2 0 0 1 0 0 0 0 0 0 1 0 2 0 2 0 2 0 2 2 0 2 1 2 2 1 2 0 0 2 2\n",
            " 2 0 2 0 0 2 2 1 2 0 0 0 2 0 0 0 0 0 0 0 0 2 2 0 0 0 0 0 0 2 0 0 2 0 2 2 0\n",
            " 2 0 0 0 0 0 2]\n",
            "Distortion: 3.5382733017923385\n"
          ]
        }
      ]
    },
    {
      "cell_type": "code",
      "source": [],
      "metadata": {
        "id": "mk8vYvEloLjp"
      },
      "execution_count": null,
      "outputs": []
    }
  ]
}