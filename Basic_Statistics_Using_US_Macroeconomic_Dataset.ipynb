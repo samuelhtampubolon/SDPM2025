{
  "nbformat": 4,
  "nbformat_minor": 0,
  "metadata": {
    "colab": {
      "provenance": [],
      "authorship_tag": "ABX9TyOft+yAOkdlTkAkI2r18tkI",
      "include_colab_link": true
    },
    "kernelspec": {
      "name": "python3",
      "display_name": "Python 3"
    },
    "language_info": {
      "name": "python"
    }
  },
  "cells": [
    {
      "cell_type": "markdown",
      "metadata": {
        "id": "view-in-github",
        "colab_type": "text"
      },
      "source": [
        "<a href=\"https://colab.research.google.com/github/samuelhtampubolon/SDPM2025/blob/main/Basic_Statistics_Using_US_Macroeconomic_Dataset.ipynb\" target=\"_parent\"><img src=\"https://colab.research.google.com/assets/colab-badge.svg\" alt=\"Open In Colab\"/></a>"
      ]
    },
    {
      "cell_type": "code",
      "execution_count": 2,
      "metadata": {
        "id": "XGPxjBPP1pky"
      },
      "outputs": [],
      "source": [
        "import numpy as np\n",
        "from scipy import stats\n",
        "import statsmodels.api as sm"
      ]
    },
    {
      "cell_type": "code",
      "source": [
        "data = sm.datasets.macrodata.load_pandas().data\n",
        "unemp = data['unemp']\n",
        "infl = data['infl']"
      ],
      "metadata": {
        "id": "5a5VZrV91xXs"
      },
      "execution_count": 3,
      "outputs": []
    },
    {
      "cell_type": "code",
      "source": [
        "#Arithmetic Mean\n",
        "mean_unemp = np.mean(unemp)\n",
        "print(mean_unemp)"
      ],
      "metadata": {
        "colab": {
          "base_uri": "https://localhost:8080/"
        },
        "id": "oyuxQ_FV13Hj",
        "outputId": "b3c919de-aefe-4334-fdba-f7221c9ddea8"
      },
      "execution_count": 4,
      "outputs": [
        {
          "output_type": "stream",
          "name": "stdout",
          "text": [
            "5.8847290640394085\n"
          ]
        }
      ]
    },
    {
      "cell_type": "code",
      "source": [
        "#median\n",
        "median_unemp = np.median(unemp)\n",
        "print(median_unemp)"
      ],
      "metadata": {
        "colab": {
          "base_uri": "https://localhost:8080/"
        },
        "id": "lAaEsgi415dn",
        "outputId": "a5245359-0eef-4f20-c675-182b41d8ae9a"
      },
      "execution_count": 5,
      "outputs": [
        {
          "output_type": "stream",
          "name": "stdout",
          "text": [
            "5.7\n"
          ]
        }
      ]
    },
    {
      "cell_type": "code",
      "source": [
        "#mode\n",
        "mode_unemp = stats.mode(unemp)\n",
        "print(mode_unemp)"
      ],
      "metadata": {
        "colab": {
          "base_uri": "https://localhost:8080/"
        },
        "id": "MghgJkx_1_72",
        "outputId": "c1f55999-6d06-48e2-9878-dc6589159594"
      },
      "execution_count": 6,
      "outputs": [
        {
          "output_type": "stream",
          "name": "stdout",
          "text": [
            "ModeResult(mode=np.float64(5.5), count=np.int64(10))\n"
          ]
        }
      ]
    },
    {
      "cell_type": "code",
      "source": [
        "#Variance (Population)\n",
        "var_unemp = np.var(unemp, ddof=0)\n",
        "print(var_unemp)"
      ],
      "metadata": {
        "colab": {
          "base_uri": "https://localhost:8080/"
        },
        "id": "4jwAMVEh2Da7",
        "outputId": "c310ed4b-f143-42c7-f778-5e1516b9bcc7"
      },
      "execution_count": 7,
      "outputs": [
        {
          "output_type": "stream",
          "name": "stdout",
          "text": [
            "2.116958916741488\n"
          ]
        }
      ]
    },
    {
      "cell_type": "code",
      "source": [
        "#Standard Deviation (Population)\n",
        "std_unemp = np.std(unemp, ddof=0)\n",
        "print(std_unemp)"
      ],
      "metadata": {
        "colab": {
          "base_uri": "https://localhost:8080/"
        },
        "id": "qcwCjQb72L1x",
        "outputId": "0a1997ef-051c-4ce6-8229-b911ccd30042"
      },
      "execution_count": 8,
      "outputs": [
        {
          "output_type": "stream",
          "name": "stdout",
          "text": [
            "1.454977290799237\n"
          ]
        }
      ]
    },
    {
      "cell_type": "code",
      "source": [
        "#range\n",
        "range_unemp = np.max(unemp) - np.min(unemp)\n",
        "print(range_unemp)"
      ],
      "metadata": {
        "colab": {
          "base_uri": "https://localhost:8080/"
        },
        "id": "9yAGywCm2QIb",
        "outputId": "1d823704-5355-4be1-c46d-0c087afd459d"
      },
      "execution_count": 9,
      "outputs": [
        {
          "output_type": "stream",
          "name": "stdout",
          "text": [
            "7.299999999999999\n"
          ]
        }
      ]
    },
    {
      "cell_type": "code",
      "source": [
        "#Interquartile Range (IQR)\n",
        "iqr_unemp = stats.iqr(unemp)\n",
        "print(iqr_unemp)"
      ],
      "metadata": {
        "colab": {
          "base_uri": "https://localhost:8080/"
        },
        "id": "PBmLjFnG2U_p",
        "outputId": "a4885a1c-2a37-4d89-a403-2443fa043fd1"
      },
      "execution_count": 10,
      "outputs": [
        {
          "output_type": "stream",
          "name": "stdout",
          "text": [
            "1.8999999999999995\n"
          ]
        }
      ]
    },
    {
      "cell_type": "code",
      "source": [
        "#Skewness\n",
        "skew_unemp = stats.skew(unemp)\n",
        "print(skew_unemp)"
      ],
      "metadata": {
        "colab": {
          "base_uri": "https://localhost:8080/"
        },
        "id": "URzw3JZK2Y-p",
        "outputId": "228ba355-1ed3-4834-e718-7e3f7a4c2e9c"
      },
      "execution_count": 11,
      "outputs": [
        {
          "output_type": "stream",
          "name": "stdout",
          "text": [
            "0.7609010955477267\n"
          ]
        }
      ]
    },
    {
      "cell_type": "code",
      "source": [
        "#Kurtosis\n",
        "kurt_unemp = stats.kurtosis(unemp)\n",
        "print(kurt_unemp)"
      ],
      "metadata": {
        "colab": {
          "base_uri": "https://localhost:8080/"
        },
        "id": "qox_gVeq2cnF",
        "outputId": "42f1e514-9ce7-4328-ce78-d233acd29454"
      },
      "execution_count": 12,
      "outputs": [
        {
          "output_type": "stream",
          "name": "stdout",
          "text": [
            "0.6074101009162196\n"
          ]
        }
      ]
    },
    {
      "cell_type": "code",
      "source": [
        "#Pearson Correlation Coefficient\n",
        "corr = np.corrcoef(unemp, infl)[0, 1]\n",
        "print(corr)"
      ],
      "metadata": {
        "colab": {
          "base_uri": "https://localhost:8080/"
        },
        "id": "QTz5wBmw2frG",
        "outputId": "8de23ca8-7817-404c-d3ac-6abfab0d90f1"
      },
      "execution_count": 13,
      "outputs": [
        {
          "output_type": "stream",
          "name": "stdout",
          "text": [
            "0.06501514156198902\n"
          ]
        }
      ]
    },
    {
      "cell_type": "code",
      "source": [
        "#Covariance\n",
        "cov = np.cov(unemp, infl)[0, 1]\n",
        "print(cov)"
      ],
      "metadata": {
        "id": "okqWeUa52ixh"
      },
      "execution_count": null,
      "outputs": []
    },
    {
      "cell_type": "code",
      "source": [],
      "metadata": {
        "id": "Q73EO3Ea2qQk"
      },
      "execution_count": null,
      "outputs": []
    }
  ]
}