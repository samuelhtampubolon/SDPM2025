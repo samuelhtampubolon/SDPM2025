{
  "nbformat": 4,
  "nbformat_minor": 0,
  "metadata": {
    "colab": {
      "provenance": [],
      "authorship_tag": "ABX9TyOlbwQ2AX5nb3CuzxhVPbJs",
      "include_colab_link": true
    },
    "kernelspec": {
      "name": "python3",
      "display_name": "Python 3"
    },
    "language_info": {
      "name": "python"
    }
  },
  "cells": [
    {
      "cell_type": "markdown",
      "metadata": {
        "id": "view-in-github",
        "colab_type": "text"
      },
      "source": [
        "<a href=\"https://colab.research.google.com/github/samuelhtampubolon/SDPM2025/blob/main/Klasifikasi_Iris_dengan_Pipeline_dan_Cross_Validation.ipynb\" target=\"_parent\"><img src=\"https://colab.research.google.com/assets/colab-badge.svg\" alt=\"Open In Colab\"/></a>"
      ]
    },
    {
      "cell_type": "code",
      "execution_count": 1,
      "metadata": {
        "id": "Yn_F_mydIq6w"
      },
      "outputs": [],
      "source": [
        "# Tujuan: klasifikasi spesies iris (supervised, multi-class)\n",
        "from sklearn.datasets import load_iris\n",
        "from sklearn.model_selection import train_test_split, cross_val_score, StratifiedKFold\n",
        "from sklearn.pipeline import Pipeline\n",
        "from sklearn.preprocessing import StandardScaler\n",
        "from sklearn.linear_model import LogisticRegression\n",
        "from sklearn.metrics import classification_report, confusion_matrix, accuracy_score\n",
        "\n",
        "# Load data (built-in)\n",
        "X, y = load_iris(return_X_y=True)"
      ]
    },
    {
      "cell_type": "code",
      "source": [
        "#  Split data ter-stratify\n",
        "X_train, X_test, y_train, y_test = train_test_split(\n",
        "    X, y, test_size=0.25, stratify=y, random_state=42\n",
        ")"
      ],
      "metadata": {
        "id": "v-tr9qq9IxEl"
      },
      "execution_count": 2,
      "outputs": []
    },
    {
      "cell_type": "code",
      "source": [
        "#  Pipeline: scaling + logistic regression\n",
        "pipe = Pipeline([\n",
        "    (\"scaler\", StandardScaler()),\n",
        "    (\"clf\", LogisticRegression(max_iter=1000))\n",
        "])"
      ],
      "metadata": {
        "id": "aL48ab_lI3NG"
      },
      "execution_count": 3,
      "outputs": []
    },
    {
      "cell_type": "code",
      "source": [
        "#  Cross-validation (F1-macro) di train set\n",
        "cv = StratifiedKFold(n_splits=5, shuffle=True, random_state=42)\n",
        "cv_scores = cross_val_score(pipe, X_train, y_train, cv=cv, scoring=\"f1_macro\")"
      ],
      "metadata": {
        "id": "R2jkU7E_I7_A"
      },
      "execution_count": 4,
      "outputs": []
    },
    {
      "cell_type": "code",
      "source": [
        "#  Fit & evaluasi di test set\n",
        "pipe.fit(X_train, y_train)\n",
        "y_pred = pipe.predict(X_test)\n",
        "\n",
        "print(f\"CV F1-macro: {cv_scores.mean():.3f} ± {cv_scores.std():.3f}\")\n",
        "print(f\"Test Accuracy: {accuracy_score(y_test, y_pred):.3f}\")\n",
        "print(\"Confusion Matrix:\\n\", confusion_matrix(y_test, y_pred))\n",
        "print(classification_report(y_test, y_pred, digits=3))"
      ],
      "metadata": {
        "colab": {
          "base_uri": "https://localhost:8080/"
        },
        "id": "mMivQo68I-Zx",
        "outputId": "3c97f19e-aa16-4c9d-b866-fc8a11745e9e"
      },
      "execution_count": 5,
      "outputs": [
        {
          "output_type": "stream",
          "name": "stdout",
          "text": [
            "CV F1-macro: 0.964 ± 0.053\n",
            "Test Accuracy: 0.921\n",
            "Confusion Matrix:\n",
            " [[12  0  0]\n",
            " [ 0 12  1]\n",
            " [ 0  2 11]]\n",
            "              precision    recall  f1-score   support\n",
            "\n",
            "           0      1.000     1.000     1.000        12\n",
            "           1      0.857     0.923     0.889        13\n",
            "           2      0.917     0.846     0.880        13\n",
            "\n",
            "    accuracy                          0.921        38\n",
            "   macro avg      0.925     0.923     0.923        38\n",
            "weighted avg      0.923     0.921     0.921        38\n",
            "\n"
          ]
        }
      ]
    }
  ]
}