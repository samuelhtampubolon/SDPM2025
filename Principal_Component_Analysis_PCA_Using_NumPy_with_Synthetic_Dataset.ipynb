{
  "nbformat": 4,
  "nbformat_minor": 0,
  "metadata": {
    "colab": {
      "provenance": [],
      "authorship_tag": "ABX9TyMOA7LIJeYkN4AHZJU7a6qj",
      "include_colab_link": true
    },
    "kernelspec": {
      "name": "python3",
      "display_name": "Python 3"
    },
    "language_info": {
      "name": "python"
    }
  },
  "cells": [
    {
      "cell_type": "markdown",
      "metadata": {
        "id": "view-in-github",
        "colab_type": "text"
      },
      "source": [
        "<a href=\"https://colab.research.google.com/github/samuelhtampubolon/SDPM2025/blob/main/Principal_Component_Analysis_PCA_Using_NumPy_with_Synthetic_Dataset.ipynb\" target=\"_parent\"><img src=\"https://colab.research.google.com/assets/colab-badge.svg\" alt=\"Open In Colab\"/></a>"
      ]
    },
    {
      "cell_type": "code",
      "execution_count": 1,
      "metadata": {
        "id": "pIWuzGxbpuUB"
      },
      "outputs": [],
      "source": [
        "import numpy as np\n",
        "\n",
        "# Synthetic high-dimensional dataset\n",
        "np.random.seed(42)\n",
        "data = np.random.rand(100, 5)  # 100 samples, 5 features"
      ]
    },
    {
      "cell_type": "code",
      "source": [
        "# Center the data\n",
        "data_centered = data - np.mean(data, axis=0)"
      ],
      "metadata": {
        "id": "xKrHlskHpy7y"
      },
      "execution_count": 2,
      "outputs": []
    },
    {
      "cell_type": "code",
      "source": [
        "# Compute SVD for PCA\n",
        "U, S, Vt = np.linalg.svd(data_centered, full_matrices=False)"
      ],
      "metadata": {
        "id": "f6XV9tRGp3lS"
      },
      "execution_count": 3,
      "outputs": []
    },
    {
      "cell_type": "code",
      "source": [
        "# Project to 2 principal components\n",
        "reduced = data_centered @ Vt.T[:, :2]"
      ],
      "metadata": {
        "id": "1A-yv_hfp5GN"
      },
      "execution_count": 4,
      "outputs": []
    },
    {
      "cell_type": "code",
      "source": [
        "print(\"Reduced data shape:\", reduced.shape)\n",
        "print(\"First sample:\", reduced[0])"
      ],
      "metadata": {
        "colab": {
          "base_uri": "https://localhost:8080/"
        },
        "id": "XDJulVBxp6X0",
        "outputId": "6ffb9577-fd46-47d3-bfab-ce3f9672e59f"
      },
      "execution_count": 5,
      "outputs": [
        {
          "output_type": "stream",
          "name": "stdout",
          "text": [
            "Reduced data shape: (100, 2)\n",
            "First sample: [-0.46103832  0.0280317 ]\n"
          ]
        }
      ]
    },
    {
      "cell_type": "code",
      "source": [],
      "metadata": {
        "id": "0UtWe5lsp6x9"
      },
      "execution_count": null,
      "outputs": []
    }
  ]
}