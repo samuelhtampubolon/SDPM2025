{
  "nbformat": 4,
  "nbformat_minor": 0,
  "metadata": {
    "colab": {
      "provenance": [],
      "authorship_tag": "ABX9TyN+IoKkfXhhmBlWNCJm3zDN",
      "include_colab_link": true
    },
    "kernelspec": {
      "name": "python3",
      "display_name": "Python 3"
    },
    "language_info": {
      "name": "python"
    }
  },
  "cells": [
    {
      "cell_type": "markdown",
      "metadata": {
        "id": "view-in-github",
        "colab_type": "text"
      },
      "source": [
        "<a href=\"https://colab.research.google.com/github/samuelhtampubolon/SDPM2025/blob/main/Probstat_Dataset_Iris.ipynb\" target=\"_parent\"><img src=\"https://colab.research.google.com/assets/colab-badge.svg\" alt=\"Open In Colab\"/></a>"
      ]
    },
    {
      "cell_type": "code",
      "execution_count": 1,
      "metadata": {
        "id": "62fmUr6L4nni"
      },
      "outputs": [],
      "source": [
        "import numpy as np\n",
        "from scipy import stats\n",
        "from sklearn.datasets import load_iris\n",
        "import pandas as pd\n",
        "\n",
        "iris = load_iris()\n",
        "iris_df = pd.DataFrame(iris.data, columns=iris.feature_names)"
      ]
    },
    {
      "cell_type": "code",
      "source": [
        "#Mean (Average value)\n",
        "mean_sepal = np.mean(iris_df['sepal length (cm)'])\n",
        "print(\"Mean of sepal length:\", mean_sepal)"
      ],
      "metadata": {
        "colab": {
          "base_uri": "https://localhost:8080/"
        },
        "id": "R0h3Nonr5VIr",
        "outputId": "63a3d2cb-d867-4ca6-8d56-05e12b2dbbfb"
      },
      "execution_count": 2,
      "outputs": [
        {
          "output_type": "stream",
          "name": "stdout",
          "text": [
            "Mean of sepal length: 5.843333333333334\n"
          ]
        }
      ]
    },
    {
      "cell_type": "code",
      "source": [
        "#Median (Middle value)\n",
        "median_sepal = np.median(iris_df['sepal length (cm)'])\n",
        "print(\"Median of sepal length:\", median_sepal)"
      ],
      "metadata": {
        "colab": {
          "base_uri": "https://localhost:8080/"
        },
        "id": "shGT7JZF5bHM",
        "outputId": "c2738b4a-c43e-4136-c956-839a9a1a8906"
      },
      "execution_count": 3,
      "outputs": [
        {
          "output_type": "stream",
          "name": "stdout",
          "text": [
            "Median of sepal length: 5.8\n"
          ]
        }
      ]
    },
    {
      "cell_type": "code",
      "source": [
        "#Mode (Most frequent value)\n",
        "mode_sepal = stats.mode(iris_df['sepal length (cm)'])\n",
        "print(\"Mode of sepal length:\", mode_sepal.mode)"
      ],
      "metadata": {
        "colab": {
          "base_uri": "https://localhost:8080/"
        },
        "id": "OSWRy97g5ghY",
        "outputId": "f37c50bf-a784-4111-9a68-49ca891b84ef"
      },
      "execution_count": 4,
      "outputs": [
        {
          "output_type": "stream",
          "name": "stdout",
          "text": [
            "Mode of sepal length: 5.0\n"
          ]
        }
      ]
    },
    {
      "cell_type": "code",
      "source": [
        "#Variance (Spread from mean)\n",
        "var_sepal = np.var(iris_df['sepal length (cm)'])\n",
        "print(\"Variance of sepal length:\", var_sepal)"
      ],
      "metadata": {
        "colab": {
          "base_uri": "https://localhost:8080/"
        },
        "id": "ivqZhmep5lmE",
        "outputId": "668bf8a9-7849-4058-f6fb-7e5c4d3a8399"
      },
      "execution_count": 5,
      "outputs": [
        {
          "output_type": "stream",
          "name": "stdout",
          "text": [
            "Variance of sepal length: 0.6811222222222222\n"
          ]
        }
      ]
    },
    {
      "cell_type": "code",
      "source": [
        "#Standard Deviation (Square root of variance)\n",
        "std_sepal = np.std(iris_df['sepal length (cm)'])\n",
        "print(\"Standard Deviation of sepal length:\", std_sepal)"
      ],
      "metadata": {
        "colab": {
          "base_uri": "https://localhost:8080/"
        },
        "id": "Q2NNeQ8D5qD5",
        "outputId": "8f51b784-995c-45bd-e476-8f73c7bf56b8"
      },
      "execution_count": 6,
      "outputs": [
        {
          "output_type": "stream",
          "name": "stdout",
          "text": [
            "Standard Deviation of sepal length: 0.8253012917851409\n"
          ]
        }
      ]
    },
    {
      "cell_type": "code",
      "source": [
        "#Range (=Max - Min)\n",
        "range_sepal = np.ptp(iris_df['sepal length (cm)'])\n",
        "print(\"Range of sepal length:\", range_sepal)"
      ],
      "metadata": {
        "colab": {
          "base_uri": "https://localhost:8080/"
        },
        "id": "_MYrjodr5vZ8",
        "outputId": "b64553bc-2096-4dc8-aef8-a2db8a1ab895"
      },
      "execution_count": 7,
      "outputs": [
        {
          "output_type": "stream",
          "name": "stdout",
          "text": [
            "Range of sepal length: 3.6000000000000005\n"
          ]
        }
      ]
    },
    {
      "cell_type": "code",
      "source": [
        "#Interquartile Range (IQR) (Q3 - Q1)\n",
        "iqr_sepal = stats.iqr(iris_df['sepal length (cm)'])\n",
        "print(\"IQR of sepal length:\", iqr_sepal)"
      ],
      "metadata": {
        "colab": {
          "base_uri": "https://localhost:8080/"
        },
        "id": "UozB1bCJ50gy",
        "outputId": "310d070d-7162-4e25-9465-72479f5ca61c"
      },
      "execution_count": 8,
      "outputs": [
        {
          "output_type": "stream",
          "name": "stdout",
          "text": [
            "IQR of sepal length: 1.3000000000000007\n"
          ]
        }
      ]
    },
    {
      "cell_type": "code",
      "source": [
        "#Skewness (Asymmetry of distribution)\n",
        "skew_sepal = stats.skew(iris_df['sepal length (cm)'])\n",
        "print(\"Skewness of sepal length:\", skew_sepal)"
      ],
      "metadata": {
        "colab": {
          "base_uri": "https://localhost:8080/"
        },
        "id": "SL4HZeXy54N3",
        "outputId": "8ef072c6-3c9b-4587-cd38-83b6cda7dde9"
      },
      "execution_count": 9,
      "outputs": [
        {
          "output_type": "stream",
          "name": "stdout",
          "text": [
            "Skewness of sepal length: 0.3117530585022963\n"
          ]
        }
      ]
    },
    {
      "cell_type": "code",
      "source": [
        "#Kurtosis (Tailedness of distribution)\n",
        "kurt_sepal = stats.kurtosis(iris_df['sepal length (cm)'])\n",
        "print(\"Kurtosis of sepal length:\", kurt_sepal)"
      ],
      "metadata": {
        "colab": {
          "base_uri": "https://localhost:8080/"
        },
        "id": "EI0OQoOH59eq",
        "outputId": "4114c895-9096-47d8-d4c4-eb5a4ee6e34a"
      },
      "execution_count": 10,
      "outputs": [
        {
          "output_type": "stream",
          "name": "stdout",
          "text": [
            "Kurtosis of sepal length: -0.5735679489249765\n"
          ]
        }
      ]
    },
    {
      "cell_type": "code",
      "source": [
        "#Correlation (Between sepal length and width)\n",
        "corr_sepal = np.corrcoef(iris_df['sepal length (cm)'], iris_df['sepal width (cm)'])[0, 1]\n",
        "print(\"Correlation between sepal length and width:\", corr_sepal)"
      ],
      "metadata": {
        "colab": {
          "base_uri": "https://localhost:8080/"
        },
        "id": "hsYyKDIT6BZr",
        "outputId": "da4a3058-39f1-4d1c-b20f-ef96189a8195"
      },
      "execution_count": 11,
      "outputs": [
        {
          "output_type": "stream",
          "name": "stdout",
          "text": [
            "Correlation between sepal length and width: -0.11756978413300208\n"
          ]
        }
      ]
    },
    {
      "cell_type": "code",
      "source": [],
      "metadata": {
        "id": "Wcvz9Mbu6Fg7"
      },
      "execution_count": null,
      "outputs": []
    }
  ]
}