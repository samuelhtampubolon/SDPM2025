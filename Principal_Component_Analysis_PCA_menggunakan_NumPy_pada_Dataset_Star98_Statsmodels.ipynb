{
  "nbformat": 4,
  "nbformat_minor": 0,
  "metadata": {
    "colab": {
      "provenance": [],
      "authorship_tag": "ABX9TyNYhG7ttTMVNbTF89hjn3T2",
      "include_colab_link": true
    },
    "kernelspec": {
      "name": "python3",
      "display_name": "Python 3"
    },
    "language_info": {
      "name": "python"
    }
  },
  "cells": [
    {
      "cell_type": "markdown",
      "metadata": {
        "id": "view-in-github",
        "colab_type": "text"
      },
      "source": [
        "<a href=\"https://colab.research.google.com/github/samuelhtampubolon/SDPM2025/blob/main/Principal_Component_Analysis_PCA_menggunakan_NumPy_pada_Dataset_Star98_Statsmodels.ipynb\" target=\"_parent\"><img src=\"https://colab.research.google.com/assets/colab-badge.svg\" alt=\"Open In Colab\"/></a>"
      ]
    },
    {
      "cell_type": "code",
      "execution_count": 1,
      "metadata": {
        "id": "CIETZqqJpAUh"
      },
      "outputs": [],
      "source": [
        "import statsmodels.api as sm\n",
        "import numpy as np\n",
        "\n",
        "# Load built-in dataset\n",
        "data = sm.datasets.star98.load_pandas().data\n",
        "X = data.to_numpy()  # All features"
      ]
    },
    {
      "cell_type": "code",
      "source": [
        "# Center data\n",
        "mean = np.mean(X, axis=0)\n",
        "X_centered = X - mean"
      ],
      "metadata": {
        "id": "0YrMpCyGpEtd"
      },
      "execution_count": 2,
      "outputs": []
    },
    {
      "cell_type": "code",
      "source": [
        "# SVD for PCA\n",
        "U, S, Vt = np.linalg.svd(X_centered, full_matrices=False)"
      ],
      "metadata": {
        "id": "CnDonZpqpNZA"
      },
      "execution_count": 3,
      "outputs": []
    },
    {
      "cell_type": "code",
      "source": [
        "# Print singular values (explained variance)\n",
        "print(\"Singular values:\", S)\n",
        "print(\"Explained variance ratio:\", (S**2) / np.sum(S**2))"
      ],
      "metadata": {
        "colab": {
          "base_uri": "https://localhost:8080/"
        },
        "id": "gv8cifCLpOqC",
        "outputId": "5ab29888-82f3-4495-e360-f69daf252c9f"
      },
      "execution_count": 4,
      "outputs": [
        {
          "output_type": "stream",
          "name": "stdout",
          "text": [
            "Singular values: [2.05701240e+05 3.05519822e+04 2.80274703e+04 4.85240242e+03\n",
            " 2.97920074e+03 1.71065670e+03 1.35425974e+03 3.79944178e+02\n",
            " 3.36740541e+02 3.05123923e+02 2.21851130e+02 1.90199763e+02\n",
            " 1.27963882e+02 1.12294278e+02 9.73165104e+01 6.30952272e+01\n",
            " 3.20785440e+01 1.68527659e+01 9.09661966e+00 3.91318550e+00\n",
            " 1.43502137e+00 4.94531517e-01]\n",
            "Explained variance ratio: [9.60139787e-01 2.11806572e-02 1.78249553e-02 5.34286585e-04\n",
            " 2.01400333e-04 6.64027968e-05 4.16164069e-05 3.27567070e-06\n",
            " 2.57306915e-06 2.11258002e-06 1.11682195e-06 8.20881728e-07\n",
            " 3.71565570e-07 2.86138238e-07 2.14898658e-07 9.03345042e-08\n",
            " 2.33501645e-08 6.44470472e-09 1.87767628e-09 3.47473365e-10\n",
            " 4.67280205e-11 5.54943282e-12]\n"
          ]
        }
      ]
    },
    {
      "cell_type": "code",
      "source": [],
      "metadata": {
        "id": "hR-BOuvwpPCx"
      },
      "execution_count": null,
      "outputs": []
    }
  ]
}