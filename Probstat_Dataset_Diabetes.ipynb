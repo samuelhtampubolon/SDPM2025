{
  "nbformat": 4,
  "nbformat_minor": 0,
  "metadata": {
    "colab": {
      "provenance": [],
      "authorship_tag": "ABX9TyNV/BbTDPQsYg7vFS/JikdB",
      "include_colab_link": true
    },
    "kernelspec": {
      "name": "python3",
      "display_name": "Python 3"
    },
    "language_info": {
      "name": "python"
    }
  },
  "cells": [
    {
      "cell_type": "markdown",
      "metadata": {
        "id": "view-in-github",
        "colab_type": "text"
      },
      "source": [
        "<a href=\"https://colab.research.google.com/github/samuelhtampubolon/SDPM2025/blob/main/Probstat_Dataset_Diabetes.ipynb\" target=\"_parent\"><img src=\"https://colab.research.google.com/assets/colab-badge.svg\" alt=\"Open In Colab\"/></a>"
      ]
    },
    {
      "cell_type": "code",
      "execution_count": 1,
      "metadata": {
        "id": "zGmU51f16bIv"
      },
      "outputs": [],
      "source": [
        "import numpy as np\n",
        "from scipy import stats\n",
        "from sklearn.datasets import load_diabetes\n",
        "import pandas as pd\n",
        "\n",
        "diabetes = load_diabetes()\n",
        "diabetes_df = pd.DataFrame(diabetes.data, columns=diabetes.feature_names)"
      ]
    },
    {
      "cell_type": "code",
      "source": [
        "#fit a normal distribution to the BMI data\n",
        "bmi_data = diabetes_df['bmi']\n",
        "mu, std = stats.norm.fit(bmi_data)"
      ],
      "metadata": {
        "id": "tA1Zo1zc6lL2"
      },
      "execution_count": 4,
      "outputs": []
    },
    {
      "cell_type": "code",
      "source": [
        "#fit a normal distribution to the BMI data\n",
        "expected_value = stats.norm.expect(loc=mu, scale=std)\n",
        "print(\"Expected Value of BMI distribution:\", expected_value)"
      ],
      "metadata": {
        "colab": {
          "base_uri": "https://localhost:8080/"
        },
        "id": "j4XwyEBa6pOO",
        "outputId": "ac85516c-fd8b-44d9-8548-2cfa2be366e6"
      },
      "execution_count": 5,
      "outputs": [
        {
          "output_type": "stream",
          "name": "stdout",
          "text": [
            "Expected Value of BMI distribution: -2.229119666630197e-16\n"
          ]
        }
      ]
    },
    {
      "cell_type": "code",
      "source": [
        "#Variance of Distribution\n",
        "var_dist = stats.norm.var(loc=mu, scale=std)\n",
        "print(\"Variance of BMI distribution:\", var_dist)"
      ],
      "metadata": {
        "colab": {
          "base_uri": "https://localhost:8080/"
        },
        "id": "5lIIz2SR6xIn",
        "outputId": "68b13b23-efc4-44d8-f85b-5b7e819a0947"
      },
      "execution_count": 6,
      "outputs": [
        {
          "output_type": "stream",
          "name": "stdout",
          "text": [
            "Variance of BMI distribution: 0.002262443438914026\n"
          ]
        }
      ]
    },
    {
      "cell_type": "code",
      "source": [
        "#Probability Density Function (PDF) at a point (e.g., BMI=0)\n",
        "pdf_value = stats.norm.pdf(0, loc=mu, scale=std)\n",
        "print(\"PDF at BMI=0:\", pdf_value)"
      ],
      "metadata": {
        "colab": {
          "base_uri": "https://localhost:8080/"
        },
        "id": "SMXU486Y60Z8",
        "outputId": "e7e9b60c-37e4-458c-cfd9-280e654c5fee"
      },
      "execution_count": 7,
      "outputs": [
        {
          "output_type": "stream",
          "name": "stdout",
          "text": [
            "PDF at BMI=0: 8.387281135541945\n"
          ]
        }
      ]
    },
    {
      "cell_type": "code",
      "source": [
        "#Cumulative Distribution Function (CDF) at a point (e.g., BMI=0)\n",
        "cdf_value = stats.norm.cdf(0, loc=mu, scale=std)\n",
        "print(\"CDF at BMI=0:\", cdf_value)"
      ],
      "metadata": {
        "colab": {
          "base_uri": "https://localhost:8080/"
        },
        "id": "N-_0hcKU64PV",
        "outputId": "17b48800-f975-4c3c-bece-3da61ae83693"
      },
      "execution_count": 8,
      "outputs": [
        {
          "output_type": "stream",
          "name": "stdout",
          "text": [
            "CDF at BMI=0: 0.5000000000000019\n"
          ]
        }
      ]
    },
    {
      "cell_type": "code",
      "source": [
        "#Percent Point Function (PPF) / Quantile (e.g., 95th percentile)\n",
        "ppf_value = stats.norm.ppf(0.95, loc=mu, scale=std)\n",
        "print(\"95th Percentile of BMI:\", ppf_value)"
      ],
      "metadata": {
        "colab": {
          "base_uri": "https://localhost:8080/"
        },
        "id": "R52MaCiO6-YG",
        "outputId": "347d94d9-1e0d-4437-944a-d51080009bad"
      },
      "execution_count": 9,
      "outputs": [
        {
          "output_type": "stream",
          "name": "stdout",
          "text": [
            "95th Percentile of BMI: 0.07823770853249042\n"
          ]
        }
      ]
    },
    {
      "cell_type": "code",
      "source": [
        "#Survival Function (1 - CDF) at a point (e.g., BMI=0)\n",
        "sf_value = stats.norm.sf(0, loc=mu, scale=std)\n",
        "print(\"Survival Function at BMI=0:\", sf_value)"
      ],
      "metadata": {
        "colab": {
          "base_uri": "https://localhost:8080/"
        },
        "id": "t8m7vLX67Coo",
        "outputId": "f6597e76-e47b-42c5-fd53-7b16c5591f55"
      },
      "execution_count": 10,
      "outputs": [
        {
          "output_type": "stream",
          "name": "stdout",
          "text": [
            "Survival Function at BMI=0: 0.4999999999999981\n"
          ]
        }
      ]
    },
    {
      "cell_type": "code",
      "source": [
        "#Moment (e.g., 3rd moment - Skewness)\n",
        "moment3 = stats.norm.moment(3, loc=mu, scale=std)\n",
        "print(\"3rd Moment of BMI distribution:\", moment3)"
      ],
      "metadata": {
        "colab": {
          "base_uri": "https://localhost:8080/"
        },
        "id": "FRIpJ9R87IS7",
        "outputId": "794e8984-955b-4e0c-8a13-bb016557646a"
      },
      "execution_count": 11,
      "outputs": [
        {
          "output_type": "stream",
          "name": "stdout",
          "text": [
            "3rd Moment of BMI distribution: -1.5241386089784548e-18\n"
          ]
        }
      ]
    },
    {
      "cell_type": "code",
      "source": [
        "#Entropy (Information measure)\n",
        "entropy = stats.norm.entropy(loc=mu, scale=std)\n",
        "print(\"Entropy of BMI distribution:\", entropy)"
      ],
      "metadata": {
        "colab": {
          "base_uri": "https://localhost:8080/"
        },
        "id": "aafBfVU77MJt",
        "outputId": "ba48c02c-95ed-43e1-dc5d-f3f92f74a716"
      },
      "execution_count": 12,
      "outputs": [
        {
          "output_type": "stream",
          "name": "stdout",
          "text": [
            "Entropy of BMI distribution: -1.6267164078341767\n"
          ]
        }
      ]
    },
    {
      "cell_type": "code",
      "source": [
        "#Median of Distribution\n",
        "median_dist = stats.norm.median(loc=mu, scale=std)\n",
        "print(\"Median of BMI distribution:\", median_dist)"
      ],
      "metadata": {
        "colab": {
          "base_uri": "https://localhost:8080/"
        },
        "id": "OVLoWBhe7QAP",
        "outputId": "ce479bfb-ab6f-410b-f09c-ce1c2e50d4a5"
      },
      "execution_count": 13,
      "outputs": [
        {
          "output_type": "stream",
          "name": "stdout",
          "text": [
            "Median of BMI distribution: -2.2455642172282577e-16\n"
          ]
        }
      ]
    },
    {
      "cell_type": "code",
      "source": [
        "#Standard Deviation of Distribution\n",
        "std_dist = stats.norm.std(loc=mu, scale=std)\n",
        "print(\"Standard Deviation of BMI distribution:\", std_dist)"
      ],
      "metadata": {
        "colab": {
          "base_uri": "https://localhost:8080/"
        },
        "id": "yXHRgHZk7TJQ",
        "outputId": "ecf7a902-b980-476e-be02-dd0ac8b87689"
      },
      "execution_count": 14,
      "outputs": [
        {
          "output_type": "stream",
          "name": "stdout",
          "text": [
            "Standard Deviation of BMI distribution: 0.0475651494154494\n"
          ]
        }
      ]
    },
    {
      "cell_type": "code",
      "source": [],
      "metadata": {
        "id": "Ig7Y3Pzb7WkS"
      },
      "execution_count": null,
      "outputs": []
    }
  ]
}