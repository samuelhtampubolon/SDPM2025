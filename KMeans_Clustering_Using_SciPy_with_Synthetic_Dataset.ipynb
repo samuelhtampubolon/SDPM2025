{
  "nbformat": 4,
  "nbformat_minor": 0,
  "metadata": {
    "colab": {
      "provenance": [],
      "authorship_tag": "ABX9TyPbqdl/74hLvECNHCLWjrOh",
      "include_colab_link": true
    },
    "kernelspec": {
      "name": "python3",
      "display_name": "Python 3"
    },
    "language_info": {
      "name": "python"
    }
  },
  "cells": [
    {
      "cell_type": "markdown",
      "metadata": {
        "id": "view-in-github",
        "colab_type": "text"
      },
      "source": [
        "<a href=\"https://colab.research.google.com/github/samuelhtampubolon/SDPM2025/blob/main/KMeans_Clustering_Using_SciPy_with_Synthetic_Dataset.ipynb\" target=\"_parent\"><img src=\"https://colab.research.google.com/assets/colab-badge.svg\" alt=\"Open In Colab\"/></a>"
      ]
    },
    {
      "cell_type": "code",
      "execution_count": 1,
      "metadata": {
        "id": "8GanFFdDpZCK"
      },
      "outputs": [],
      "source": [
        "import numpy as np\n",
        "from scipy.cluster.vq import kmeans, vq\n",
        "\n",
        "# Synthetic dataset: 3 clusters\n",
        "np.random.seed(42)\n",
        "cluster1 = np.random.normal(0, 1, (50, 2))\n",
        "cluster2 = np.random.normal(5, 1, (50, 2))\n",
        "cluster3 = np.random.normal(10, 1, (50, 2))\n",
        "data = np.vstack((cluster1, cluster2, cluster3))"
      ]
    },
    {
      "cell_type": "code",
      "source": [
        "# K-Means clustering\n",
        "centroids, _ = kmeans(data, 3)\n",
        "labels, _ = vq(data, centroids)"
      ],
      "metadata": {
        "id": "ahwrZSTHphRS"
      },
      "execution_count": 2,
      "outputs": []
    },
    {
      "cell_type": "code",
      "source": [
        "print(\"Cluster labels sample:\", labels[:10])"
      ],
      "metadata": {
        "id": "0ADtUYNZpkKL",
        "outputId": "165e1818-5fb5-47b4-a3ae-ea67982c190d",
        "colab": {
          "base_uri": "https://localhost:8080/"
        }
      },
      "execution_count": 3,
      "outputs": [
        {
          "output_type": "stream",
          "name": "stdout",
          "text": [
            "Cluster labels sample: [1 1 1 1 1 1 1 1 1 1]\n"
          ]
        }
      ]
    }
  ]
}