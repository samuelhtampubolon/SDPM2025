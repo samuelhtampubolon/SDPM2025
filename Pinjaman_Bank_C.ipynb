{
  "nbformat": 4,
  "nbformat_minor": 0,
  "metadata": {
    "colab": {
      "provenance": [],
      "authorship_tag": "ABX9TyMBWfcKNhTjvvqkMCg5VNnL",
      "include_colab_link": true
    },
    "kernelspec": {
      "name": "python3",
      "display_name": "Python 3"
    },
    "language_info": {
      "name": "python"
    }
  },
  "cells": [
    {
      "cell_type": "markdown",
      "metadata": {
        "id": "view-in-github",
        "colab_type": "text"
      },
      "source": [
        "<a href=\"https://colab.research.google.com/github/samuelhtampubolon/SDPM2025/blob/main/Pinjaman_Bank_C.ipynb\" target=\"_parent\"><img src=\"https://colab.research.google.com/assets/colab-badge.svg\" alt=\"Open In Colab\"/></a>"
      ]
    },
    {
      "cell_type": "code",
      "execution_count": 1,
      "metadata": {
        "id": "YPW5T781xz3X"
      },
      "outputs": [],
      "source": [
        "import pandas as pd\n",
        "import numpy as np\n",
        "\n",
        "# Langkah 1: Baca file\n",
        "file_path = '/content/sample_data/Pinjaman_Bank_C.xlsx'\n",
        "df = pd.read_excel(file_path)"
      ]
    },
    {
      "cell_type": "code",
      "source": [
        "import argparse, re, pandas as pd, numpy as np\n",
        "#argparse is a built-in Python module that facilitates the creation of user-friendly command-line interfaces (CLIs) for Python programs\n",
        "\n",
        "def strip_all_obj(df):\n",
        "    for c in df.select_dtypes(include=[\"object\"]).columns:\n",
        "        df[c] = df[c].astype(str).str.strip()\n",
        "        df[c] = df[c].replace({\"None\": np.nan, \"\": np.nan, \"nan\": np.nan, \"NaN\": np.nan, \"N/A\": np.nan, \"—\": np.nan})\n",
        "    return df\n",
        "\n",
        "def parse_currency(s):\n",
        "    if pd.isna(s): return np.nan\n",
        "    s = str(s).strip().lower()\n",
        "    if s in {\"\", \"na\", \"n/a\", \"nan\", \"—\"}: return np.nan\n",
        "    m = re.search(r'([\\d]+(?:[\\.,]\\d+)?)\\s*(m|jt|juta)\\b', s)  # IDR 1.5m / 1,5 jt\n",
        "    if m:\n",
        "        val = float(m.group(1).replace(\",\", \".\"))\n",
        "        return int(round(val * 1_000_000))\n",
        "    s2 = re.sub(r'[^\\d\\.,-]', '', s)\n",
        "    if s2.count(\",\") > 1 and \".\" not in s2: s2 = s2.replace(\",\", \"\")\n",
        "    if s2.count(\".\") > 1 and \",\" not in s2: s2 = s2.replace(\".\", \"\")\n",
        "    s2 = s2.replace(\".\", \"\").replace(\",\", \"\")\n",
        "    try: return int(float(s2))\n",
        "    except: return np.nan\n",
        "\n",
        "def parse_rate(x):\n",
        "    if pd.isna(x): return np.nan\n",
        "    s = str(x).strip().lower().replace(\" \", \"\")\n",
        "    if s in {\"tbd\", \"—\", \"na\", \"n/a\"}: return np.nan\n",
        "    if s.endswith(\"%\"): s = s[:-1]\n",
        "    s = s.replace(\",\", \".\")\n",
        "    try:\n",
        "        val = float(s)\n",
        "        return round(val*100, 4) if val < 1 else round(val, 4)  # 0.12 -> 12%\n",
        "    except: return np.nan\n",
        "\n",
        "def parse_tenure(x):\n",
        "    if pd.isna(x): return np.nan\n",
        "    s = str(x).strip().lower()\n",
        "    s = s.replace(\"months\",\"m\").replace(\"month\",\"m\").replace(\"bln\",\"m\")\n",
        "    s = s.replace(\"tahun\",\"yr\").replace(\"thn\",\"yr\").replace(\"years\",\"yr\").replace(\"year\",\"yr\").replace(\" \", \"\")\n",
        "    if s in {\"\", \"nan\"}: return np.nan\n",
        "    m = re.search(r'([\\d\\.]+)yr', s)\n",
        "    if m:\n",
        "        try: return int(round(float(m.group(1))*12))\n",
        "        except: return np.nan\n",
        "    m2 = re.search(r'(\\d+)m$', s)\n",
        "    if m2: return int(m2.group(1))\n",
        "    try: return int(float(s))\n",
        "    except: return np.nan\n",
        "\n",
        "def normalize_branch(s):\n",
        "    return np.nan if pd.isna(s) else str(s).strip().title()\n",
        "\n",
        "def normalize_employment(s):\n",
        "    if pd.isna(s): return np.nan\n",
        "    s = str(s).strip().lower().replace(\"-\", \" \")\n",
        "    mapping = {\"full time\":\"Full-time\",\"full  time\":\"Full-time\",\"fulltime\":\"Full-time\",\"contract\":\"Contract\",\n",
        "               \"self employed\":\"Self-employed\",\"self  employed\":\"Self-employed\",\"unemployed\":\"Unemployed\",\"student\":\"Student\"}\n",
        "    return mapping.get(s, s.title())\n",
        "\n",
        "def normalize_purpose(s):\n",
        "    if pd.isna(s): return np.nan\n",
        "    s = str(s).strip().lower()\n",
        "    mapping = {\"rumah\":\"Home\",\"mobil\":\"Car\",\"sekolah\":\"Education\",\"usaha\":\"Business\",\n",
        "               \"renovasi\":\"Renovation\",\"hp\":\"Gadget\",\"liburan\":\"Travel\"}\n",
        "    return mapping.get(s, s.title())\n",
        "\n",
        "def normalize_approval(s):\n",
        "    if pd.isna(s): return np.nan\n",
        "    s = str(s).strip().lower()\n",
        "    if s in {\"on hold\",\"pending docs\",\"pending\"}: return \"Pending\"\n",
        "    if s.startswith(\"approved\"): return \"Approved\"\n",
        "    if s == \"rejected\": return \"Rejected\"\n",
        "    return s.title()\n",
        "\n",
        "def normalize_loan_id(s):\n",
        "    if pd.isna(s) or str(s).strip() == \"\": return np.nan\n",
        "    s = str(s).strip().upper().replace(\"LOAN\",\"LN\").replace(\"_\",\"-\")\n",
        "    m = re.search(r'(LN)-?(\\d{4})-?(\\d{5,})', s)\n",
        "    return f\"LN-{m.group(2)}-{int(m.group(3)):05d}\" if m else s\n",
        "\n",
        "def normalize_nik(s):\n",
        "    if pd.isna(s): return np.nan\n",
        "    digits = re.sub(r'\\D','', str(s))\n",
        "    return digits if len(digits)==16 else np.nan\n",
        "\n",
        "def compute_emi(principal, annual_rate_pct, tenure_months):\n",
        "    try:\n",
        "        p = float(principal); r = float(annual_rate_pct)/100/12; n = int(tenure_months)\n",
        "        if p<=0 or n<=0 or r<0: return np.nan\n",
        "        if r==0: return round(p/n, 2)\n",
        "        return round(p*r*(1+r)**n/((1+r)**n-1), 2)\n",
        "    except: return np.nan\n",
        "\n",
        "def main(i_path, o_path):\n",
        "    df = pd.read_excel(i_path, sheet_name=0, dtype=str)\n",
        "    df = strip_all_obj(df)\n",
        "    df[\"Loan_ID\"] = df[\"Loan_ID\"].apply(normalize_loan_id)\n",
        "    df[\"National_ID\"] = df[\"National_ID\"].apply(normalize_nik)\n",
        "    df[\"Application_Date\"] = pd.to_datetime(df[\"Application_Date\"], errors=\"coerce\", dayfirst=True, infer_datetime_format=True)\n",
        "    df[\"Loan_Amount_IDR\"] = df[\"Loan_Amount_IDR\"].apply(parse_currency)\n",
        "    df[\"Monthly_Income_IDR\"] = df[\"Monthly_Income_IDR\"].apply(parse_currency)\n",
        "    df[\"Interest_Rate\"] = df[\"Interest_Rate\"].apply(parse_rate)\n",
        "    df[\"Tenure_Months\"] = df[\"Tenure\"].apply(parse_tenure)\n",
        "    df[\"Branch\"] = df[\"Branch\"].apply(normalize_branch)\n",
        "    df[\"Employment_Status\"] = df[\"Employment_Status\"].apply(normalize_employment)\n",
        "    df[\"Loan_Purpose\"] = df[\"Loan_Purpose\"].apply(normalize_purpose)\n",
        "    df[\"Approval_Status\"] = df[\"Approval_Status\"].apply(normalize_approval)\n",
        "\n",
        "    # deduplicate by Loan_ID (if exists)\n",
        "    df = df.sort_values([\"Loan_ID\",\"Application_Date\"]).drop_duplicates(subset=[\"Loan_ID\"], keep=\"last\")\n",
        "\n",
        "    # cap implausible amounts/income; set invalid to NaN\n",
        "    df[\"Loan_Amount_IDR\"] = df[\"Loan_Amount_IDR\"].apply(lambda x: np.nan if (pd.notna(x) and (x < 1_000_000 or x > 5_000_000_000)) else x)\n",
        "    df[\"Monthly_Income_IDR\"] = df[\"Monthly_Income_IDR\"].apply(lambda x: np.nan if (pd.notna(x) and x <= 0) else x)\n",
        "\n",
        "    df[\"DTI\"] = np.where((df[\"Loan_Amount_IDR\"].notna()) & (df[\"Tenure_Months\"].notna()) & (df[\"Monthly_Income_IDR\"].notna()),\n",
        "                         (df[\"Loan_Amount_IDR\"]/df[\"Tenure_Months\"])/df[\"Monthly_Income_IDR\"], np.nan)\n",
        "    df[\"EMI_Est\"] = df.apply(lambda r: compute_emi(r[\"Loan_Amount_IDR\"], r[\"Interest_Rate\"], r[\"Tenure_Months\"]), axis=1)\n",
        "\n",
        "    cols = [\"Loan_ID\",\"Customer_Name\",\"National_ID\",\"Application_Date\",\"Loan_Amount_IDR\",\"Interest_Rate\",\n",
        "            \"Tenure_Months\",\"Monthly_Income_IDR\",\"Employment_Status\",\"Loan_Purpose\",\"Branch\",\"Approval_Status\",\"DTI\",\"EMI_Est\"]\n",
        "    df[cols].to_excel(o_path, index=False, sheet_name=\"clean_loans\")\n",
        "    print(\"Saved:\", o_path)\n",
        "\n",
        "# if __name__ == \"__main__\":\n",
        "#     import sys, argparse\n",
        "#     p = argparse.ArgumentParser()\n",
        "#     p.add_argument(\"--input\",\"-i\", required=True)\n",
        "#     p.add_argument(\"--output\",\"-o\", default=\"loan_data_clean.xlsx\")\n",
        "#     a = p.parse_args()\n",
        "#     main(a.input, a.output)\n",
        "\n",
        "# Call the main function directly with hardcoded paths for Colab\n",
        "main('/content/sample_data/Pinjaman_Bank_C.xlsx', 'loan_data_clean.xlsx')"
      ],
      "metadata": {
        "colab": {
          "base_uri": "https://localhost:8080/"
        },
        "id": "8KEMgZmvyQH8",
        "outputId": "a775cf4d-f07b-43f5-af04-a943a2f86944"
      },
      "execution_count": 3,
      "outputs": [
        {
          "output_type": "stream",
          "name": "stdout",
          "text": [
            "Saved: loan_data_clean.xlsx\n"
          ]
        },
        {
          "output_type": "stream",
          "name": "stderr",
          "text": [
            "/tmp/ipython-input-2259976943.py:99: UserWarning: The argument 'infer_datetime_format' is deprecated and will be removed in a future version. A strict version of it is now the default, see https://pandas.pydata.org/pdeps/0004-consistent-to-datetime-parsing.html. You can safely remove this argument.\n",
            "  df[\"Application_Date\"] = pd.to_datetime(df[\"Application_Date\"], errors=\"coerce\", dayfirst=True, infer_datetime_format=True)\n",
            "/tmp/ipython-input-2259976943.py:99: UserWarning: Parsing dates in %Y-%m-%d %H:%M:%S format when dayfirst=True was specified. Pass `dayfirst=False` or specify a format to silence this warning.\n",
            "  df[\"Application_Date\"] = pd.to_datetime(df[\"Application_Date\"], errors=\"coerce\", dayfirst=True, infer_datetime_format=True)\n"
          ]
        }
      ]
    },
    {
      "cell_type": "code",
      "source": [],
      "metadata": {
        "id": "vyayodW2yaWU"
      },
      "execution_count": null,
      "outputs": []
    }
  ]
}