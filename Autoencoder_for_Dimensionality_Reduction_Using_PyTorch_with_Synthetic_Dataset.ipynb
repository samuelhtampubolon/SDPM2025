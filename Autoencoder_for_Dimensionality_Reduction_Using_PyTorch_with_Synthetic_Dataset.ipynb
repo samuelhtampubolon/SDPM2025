{
  "nbformat": 4,
  "nbformat_minor": 0,
  "metadata": {
    "colab": {
      "provenance": [],
      "authorship_tag": "ABX9TyOalkQ6gkrS7S7jW0rvfqJX",
      "include_colab_link": true
    },
    "kernelspec": {
      "name": "python3",
      "display_name": "Python 3"
    },
    "language_info": {
      "name": "python"
    }
  },
  "cells": [
    {
      "cell_type": "markdown",
      "metadata": {
        "id": "view-in-github",
        "colab_type": "text"
      },
      "source": [
        "<a href=\"https://colab.research.google.com/github/samuelhtampubolon/SDPM2025/blob/main/Autoencoder_for_Dimensionality_Reduction_Using_PyTorch_with_Synthetic_Dataset.ipynb\" target=\"_parent\"><img src=\"https://colab.research.google.com/assets/colab-badge.svg\" alt=\"Open In Colab\"/></a>"
      ]
    },
    {
      "cell_type": "code",
      "execution_count": 1,
      "metadata": {
        "id": "vDISccoop_D2"
      },
      "outputs": [],
      "source": [
        "import numpy as np\n",
        "import torch\n",
        "import torch.nn as nn\n",
        "import torch.optim as optim\n",
        "\n",
        "# Synthetic dataset\n",
        "np.random.seed(42)\n",
        "data = np.random.rand(100, 10).astype(np.float32)  # 100 samples, 10 features\n",
        "data_tensor = torch.from_numpy(data)"
      ]
    },
    {
      "cell_type": "code",
      "source": [
        "# Autoencoder model\n",
        "class Autoencoder(nn.Module):\n",
        "    def __init__(self):\n",
        "        super().__init__()\n",
        "        self.encoder = nn.Linear(10, 3)  # Reduce to 3 dims\n",
        "        self.decoder = nn.Linear(3, 10)\n",
        "\n",
        "    def forward(self, x):\n",
        "        return self.decoder(self.encoder(x))\n",
        "\n",
        "model = Autoencoder()\n",
        "criterion = nn.MSELoss()\n",
        "optimizer = optim.Adam(model.parameters())"
      ],
      "metadata": {
        "id": "4qseOsXAqYzu"
      },
      "execution_count": 2,
      "outputs": []
    },
    {
      "cell_type": "code",
      "source": [
        "# Training loop (simplified)\n",
        "for epoch in range(100):\n",
        "    optimizer.zero_grad()\n",
        "    out = model(data_tensor)\n",
        "    loss = criterion(out, data_tensor)\n",
        "    loss.backward()\n",
        "    optimizer.step()"
      ],
      "metadata": {
        "id": "6IwsYlExqems"
      },
      "execution_count": 3,
      "outputs": []
    },
    {
      "cell_type": "code",
      "source": [
        "# Get reduced representation\n",
        "with torch.no_grad():\n",
        "    reduced = model.encoder(data_tensor)\n",
        "print(\"Reduced data shape:\", reduced.shape)"
      ],
      "metadata": {
        "colab": {
          "base_uri": "https://localhost:8080/"
        },
        "id": "gb9Auk1hqgku",
        "outputId": "97c1c19f-4233-4e49-dc9b-828c86dc5b09"
      },
      "execution_count": 4,
      "outputs": [
        {
          "output_type": "stream",
          "name": "stdout",
          "text": [
            "Reduced data shape: torch.Size([100, 3])\n"
          ]
        }
      ]
    },
    {
      "cell_type": "code",
      "source": [],
      "metadata": {
        "id": "kIFrWn9Rqg5a"
      },
      "execution_count": null,
      "outputs": []
    }
  ]
}