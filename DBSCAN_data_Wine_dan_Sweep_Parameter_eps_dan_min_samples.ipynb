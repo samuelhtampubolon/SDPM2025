{
  "nbformat": 4,
  "nbformat_minor": 0,
  "metadata": {
    "colab": {
      "provenance": [],
      "authorship_tag": "ABX9TyMJ+wWWB0DD5bRXr/Sxtzzt",
      "include_colab_link": true
    },
    "kernelspec": {
      "name": "python3",
      "display_name": "Python 3"
    },
    "language_info": {
      "name": "python"
    }
  },
  "cells": [
    {
      "cell_type": "markdown",
      "metadata": {
        "id": "view-in-github",
        "colab_type": "text"
      },
      "source": [
        "<a href=\"https://colab.research.google.com/github/samuelhtampubolon/SDPM2025/blob/main/DBSCAN_data_Wine_dan_Sweep_Parameter_eps_dan_min_samples.ipynb\" target=\"_parent\"><img src=\"https://colab.research.google.com/assets/colab-badge.svg\" alt=\"Open In Colab\"/></a>"
      ]
    },
    {
      "cell_type": "code",
      "execution_count": 3,
      "metadata": {
        "id": "WlYgHYkqmXf4"
      },
      "outputs": [],
      "source": [
        "# Clustering density-based; pilih kombinasi eps/min_samples terbaik via silhouette.\n",
        "from sklearn.datasets import load_wine\n",
        "from sklearn.preprocessing import StandardScaler\n",
        "from sklearn.cluster import DBSCAN\n",
        "from sklearn.metrics import silhouette_score\n",
        "import numpy as np\n",
        "\n",
        "X, _ = load_wine(return_X_y=True)\n",
        "X = StandardScaler().fit_transform(X)\n",
        "\n",
        "def evaluate_dbscan(eps, min_samples):\n",
        "    labels = DBSCAN(eps=eps, min_samples=min_samples).fit_predict(X)\n",
        "    unique = set(labels)\n",
        "    n_clusters = len(unique) - (1 if -1 in unique else 0)\n",
        "    noise_ratio = (labels == -1).mean()\n",
        "    if n_clusters <= 1:\n",
        "        return -1, n_clusters, noise_ratio, labels\n",
        "    sil = silhouette_score(X, labels)\n",
        "    return sil, n_clusters, noise_ratio, labels\n",
        "\n",
        "best = {\"score\": -1, \"eps\": -1, \"min_samples\": -1, \"n_clusters\": -1, \"noise_ratio\": -1}\n",
        "for eps in np.linspace(0.3, 1.2, 10):\n",
        "    for ms in [3, 5, 10]:\n",
        "        sil, ncl, noise, labels = evaluate_dbscan(eps, ms)\n",
        "        if sil > best.get(\"score\", -1):\n",
        "            best = {\"score\": sil, \"eps\": float(eps), \"min_samples\": ms,\n",
        "                    \"n_clusters\": int(ncl), \"noise_ratio\": float(noise)}"
      ]
    },
    {
      "cell_type": "code",
      "source": [
        "print(f\"Best eps={best['eps']:.2f}, min_samples={best['min_samples']}, \"\n",
        "      f\"Silhouette={best['score']:.3f}, Clusters={best['n_clusters']}, Noise={best['noise_ratio']:.2f}\")"
      ],
      "metadata": {
        "colab": {
          "base_uri": "https://localhost:8080/"
        },
        "id": "xIIUMmvxmeJr",
        "outputId": "4f6b3bb4-646d-43d5-8806-1a1dc5cdef1b"
      },
      "execution_count": 5,
      "outputs": [
        {
          "output_type": "stream",
          "name": "stdout",
          "text": [
            "Best eps=-1.00, min_samples=-1, Silhouette=-1.000, Clusters=-1, Noise=-1.00\n"
          ]
        }
      ]
    }
  ]
}