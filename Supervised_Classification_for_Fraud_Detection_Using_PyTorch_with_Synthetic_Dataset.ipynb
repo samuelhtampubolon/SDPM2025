{
  "nbformat": 4,
  "nbformat_minor": 0,
  "metadata": {
    "colab": {
      "provenance": [],
      "authorship_tag": "ABX9TyOPBfXuWmTuEb45ZmXkAn1O",
      "include_colab_link": true
    },
    "kernelspec": {
      "name": "python3",
      "display_name": "Python 3"
    },
    "language_info": {
      "name": "python"
    }
  },
  "cells": [
    {
      "cell_type": "markdown",
      "metadata": {
        "id": "view-in-github",
        "colab_type": "text"
      },
      "source": [
        "<a href=\"https://colab.research.google.com/github/samuelhtampubolon/SDPM2025/blob/main/Supervised_Classification_for_Fraud_Detection_Using_PyTorch_with_Synthetic_Dataset.ipynb\" target=\"_parent\"><img src=\"https://colab.research.google.com/assets/colab-badge.svg\" alt=\"Open In Colab\"/></a>"
      ]
    },
    {
      "cell_type": "code",
      "execution_count": 2,
      "metadata": {
        "id": "KBh9G9H5xXSd"
      },
      "outputs": [],
      "source": [
        "import numpy as np\n",
        "import torch\n",
        "import torch.nn as nn\n",
        "import torch.optim as optim\n",
        "\n",
        "# Generate synthetic imbalanced dataset\n",
        "np.random.seed(42)\n",
        "normal = np.random.normal(0, 1, (950, 2))\n",
        "fraud = np.random.normal(5, 1, (50, 2))\n",
        "X = np.vstack((normal, fraud))\n",
        "y = np.hstack((np.zeros(950), np.ones(50)))\n",
        "\n",
        "X_tensor = torch.from_numpy(X).float()\n",
        "y_tensor = torch.from_numpy(y).long()"
      ]
    },
    {
      "cell_type": "code",
      "source": [
        "# Simple neural network model\n",
        "model = nn.Sequential(\n",
        "    nn.Linear(2, 10),\n",
        "    nn.ReLU(),\n",
        "    nn.Linear(10, 2)\n",
        ")\n",
        "\n",
        "criterion = nn.CrossEntropyLoss()\n",
        "optimizer = optim.Adam(model.parameters())"
      ],
      "metadata": {
        "id": "ELqiOoBxxsae"
      },
      "execution_count": 3,
      "outputs": []
    },
    {
      "cell_type": "code",
      "source": [
        "# Training loop (simplified)\n",
        "for epoch in range(100):\n",
        "    optimizer.zero_grad()\n",
        "    out = model(X_tensor)\n",
        "    loss = criterion(out, y_tensor)\n",
        "    loss.backward()\n",
        "    optimizer.step()"
      ],
      "metadata": {
        "id": "R0RorCfPx-Ai"
      },
      "execution_count": 4,
      "outputs": []
    },
    {
      "cell_type": "code",
      "source": [
        "# Example prediction\n",
        "with torch.no_grad():\n",
        "    preds = torch.argmax(model(X_tensor), dim=1)\n",
        "print(\"Accuracy:\", (preds == y_tensor).float().mean().item())"
      ],
      "metadata": {
        "colab": {
          "base_uri": "https://localhost:8080/"
        },
        "id": "6JbiCdU3yCfw",
        "outputId": "192ec0eb-a73c-4d4f-f414-693d39cbe2f9"
      },
      "execution_count": 5,
      "outputs": [
        {
          "output_type": "stream",
          "name": "stdout",
          "text": [
            "Accuracy: 0.949999988079071\n"
          ]
        }
      ]
    }
  ]
}