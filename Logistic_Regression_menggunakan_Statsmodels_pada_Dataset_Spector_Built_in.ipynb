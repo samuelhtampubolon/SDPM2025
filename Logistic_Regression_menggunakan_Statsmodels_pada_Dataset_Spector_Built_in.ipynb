{
  "nbformat": 4,
  "nbformat_minor": 0,
  "metadata": {
    "colab": {
      "provenance": [],
      "authorship_tag": "ABX9TyOfcgN+m3aaaGSR9y5Pb4+l",
      "include_colab_link": true
    },
    "kernelspec": {
      "name": "python3",
      "display_name": "Python 3"
    },
    "language_info": {
      "name": "python"
    }
  },
  "cells": [
    {
      "cell_type": "markdown",
      "metadata": {
        "id": "view-in-github",
        "colab_type": "text"
      },
      "source": [
        "<a href=\"https://colab.research.google.com/github/samuelhtampubolon/SDPM2025/blob/main/Logistic_Regression_menggunakan_Statsmodels_pada_Dataset_Spector_Built_in.ipynb\" target=\"_parent\"><img src=\"https://colab.research.google.com/assets/colab-badge.svg\" alt=\"Open In Colab\"/></a>"
      ]
    },
    {
      "cell_type": "code",
      "execution_count": 1,
      "metadata": {
        "id": "225tphD3L6r1"
      },
      "outputs": [],
      "source": [
        "import statsmodels.api as sm\n",
        "import pandas as pd\n",
        "\n",
        "# Load built-in dataset\n",
        "data = sm.datasets.spector.load_pandas()\n",
        "y = data.endog  # Binary target: GRADE\n",
        "X = data.exog   # Features: GPA, TUCE, PSI\n",
        "X = sm.add_constant(X)  # Add intercept"
      ]
    },
    {
      "cell_type": "code",
      "source": [
        "# Fit Logit model\n",
        "model = sm.Logit(y, X)\n",
        "results = model.fit()\n",
        "print(results.summary())"
      ],
      "metadata": {
        "colab": {
          "base_uri": "https://localhost:8080/"
        },
        "id": "m-z4B0k2MDl5",
        "outputId": "afbf9f55-c6db-470f-e7c2-1bbbe73a1e7c"
      },
      "execution_count": 2,
      "outputs": [
        {
          "output_type": "stream",
          "name": "stdout",
          "text": [
            "Optimization terminated successfully.\n",
            "         Current function value: 0.402801\n",
            "         Iterations 7\n",
            "                           Logit Regression Results                           \n",
            "==============================================================================\n",
            "Dep. Variable:                  GRADE   No. Observations:                   32\n",
            "Model:                          Logit   Df Residuals:                       28\n",
            "Method:                           MLE   Df Model:                            3\n",
            "Date:                Wed, 08 Oct 2025   Pseudo R-squ.:                  0.3740\n",
            "Time:                        09:39:19   Log-Likelihood:                -12.890\n",
            "converged:                       True   LL-Null:                       -20.592\n",
            "Covariance Type:            nonrobust   LLR p-value:                  0.001502\n",
            "==============================================================================\n",
            "                 coef    std err          z      P>|z|      [0.025      0.975]\n",
            "------------------------------------------------------------------------------\n",
            "const        -13.0213      4.931     -2.641      0.008     -22.687      -3.356\n",
            "GPA            2.8261      1.263      2.238      0.025       0.351       5.301\n",
            "TUCE           0.0952      0.142      0.672      0.501      -0.182       0.373\n",
            "PSI            2.3787      1.065      2.234      0.025       0.292       4.465\n",
            "==============================================================================\n"
          ]
        }
      ]
    },
    {
      "cell_type": "code",
      "source": [],
      "metadata": {
        "id": "_cUwhWYwMIIc"
      },
      "execution_count": null,
      "outputs": []
    }
  ]
}