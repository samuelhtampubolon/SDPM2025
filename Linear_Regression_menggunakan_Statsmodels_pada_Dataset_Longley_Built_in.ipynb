{
  "nbformat": 4,
  "nbformat_minor": 0,
  "metadata": {
    "colab": {
      "provenance": [],
      "authorship_tag": "ABX9TyNWXCSYmbVFvX7EC/hpvvV1",
      "include_colab_link": true
    },
    "kernelspec": {
      "name": "python3",
      "display_name": "Python 3"
    },
    "language_info": {
      "name": "python"
    }
  },
  "cells": [
    {
      "cell_type": "markdown",
      "metadata": {
        "id": "view-in-github",
        "colab_type": "text"
      },
      "source": [
        "<a href=\"https://colab.research.google.com/github/samuelhtampubolon/SDPM2025/blob/main/Linear_Regression_menggunakan_Statsmodels_pada_Dataset_Longley_Built_in.ipynb\" target=\"_parent\"><img src=\"https://colab.research.google.com/assets/colab-badge.svg\" alt=\"Open In Colab\"/></a>"
      ]
    },
    {
      "cell_type": "code",
      "execution_count": 1,
      "metadata": {
        "id": "AGcIGWlCLeMC"
      },
      "outputs": [],
      "source": [
        "import statsmodels.api as sm\n",
        "import pandas as pd\n",
        "\n",
        "# Load built-in dataset\n",
        "data = sm.datasets.longley.load_pandas()\n",
        "y = data.endog  # Target: TOTEMP\n",
        "X = data.exog   # Features\n",
        "X = sm.add_constant(X)  # Add intercept"
      ]
    },
    {
      "cell_type": "code",
      "source": [
        "# Fit OLS model\n",
        "model = sm.OLS(y, X)\n",
        "results = model.fit()\n",
        "print(results.summary())"
      ],
      "metadata": {
        "colab": {
          "base_uri": "https://localhost:8080/"
        },
        "id": "ZVBKUfbLLhc-",
        "outputId": "71611c44-da53-435b-c015-2132c484cb34"
      },
      "execution_count": 2,
      "outputs": [
        {
          "output_type": "stream",
          "name": "stdout",
          "text": [
            "                            OLS Regression Results                            \n",
            "==============================================================================\n",
            "Dep. Variable:                 TOTEMP   R-squared:                       0.995\n",
            "Model:                            OLS   Adj. R-squared:                  0.992\n",
            "Method:                 Least Squares   F-statistic:                     330.3\n",
            "Date:                Wed, 08 Oct 2025   Prob (F-statistic):           4.98e-10\n",
            "Time:                        09:37:06   Log-Likelihood:                -109.62\n",
            "No. Observations:                  16   AIC:                             233.2\n",
            "Df Residuals:                       9   BIC:                             238.6\n",
            "Df Model:                           6                                         \n",
            "Covariance Type:            nonrobust                                         \n",
            "==============================================================================\n",
            "                 coef    std err          t      P>|t|      [0.025      0.975]\n",
            "------------------------------------------------------------------------------\n",
            "const      -3.482e+06    8.9e+05     -3.911      0.004    -5.5e+06   -1.47e+06\n",
            "GNPDEFL       15.0619     84.915      0.177      0.863    -177.029     207.153\n",
            "GNP           -0.0358      0.033     -1.070      0.313      -0.112       0.040\n",
            "UNEMP         -2.0202      0.488     -4.136      0.003      -3.125      -0.915\n",
            "ARMED         -1.0332      0.214     -4.822      0.001      -1.518      -0.549\n",
            "POP           -0.0511      0.226     -0.226      0.826      -0.563       0.460\n",
            "YEAR        1829.1515    455.478      4.016      0.003     798.788    2859.515\n",
            "==============================================================================\n",
            "Omnibus:                        0.749   Durbin-Watson:                   2.559\n",
            "Prob(Omnibus):                  0.688   Jarque-Bera (JB):                0.684\n",
            "Skew:                           0.420   Prob(JB):                        0.710\n",
            "Kurtosis:                       2.434   Cond. No.                     4.86e+09\n",
            "==============================================================================\n",
            "\n",
            "Notes:\n",
            "[1] Standard Errors assume that the covariance matrix of the errors is correctly specified.\n",
            "[2] The condition number is large, 4.86e+09. This might indicate that there are\n",
            "strong multicollinearity or other numerical problems.\n"
          ]
        }
      ]
    }
  ]
}