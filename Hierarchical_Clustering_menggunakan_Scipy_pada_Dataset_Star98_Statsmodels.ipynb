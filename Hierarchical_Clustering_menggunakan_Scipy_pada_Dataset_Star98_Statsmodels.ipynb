{
  "nbformat": 4,
  "nbformat_minor": 0,
  "metadata": {
    "colab": {
      "provenance": [],
      "authorship_tag": "ABX9TyPwP3Q8EkQVbTFGXjtjx+TF",
      "include_colab_link": true
    },
    "kernelspec": {
      "name": "python3",
      "display_name": "Python 3"
    },
    "language_info": {
      "name": "python"
    }
  },
  "cells": [
    {
      "cell_type": "markdown",
      "metadata": {
        "id": "view-in-github",
        "colab_type": "text"
      },
      "source": [
        "<a href=\"https://colab.research.google.com/github/samuelhtampubolon/SDPM2025/blob/main/Hierarchical_Clustering_menggunakan_Scipy_pada_Dataset_Star98_Statsmodels.ipynb\" target=\"_parent\"><img src=\"https://colab.research.google.com/assets/colab-badge.svg\" alt=\"Open In Colab\"/></a>"
      ]
    },
    {
      "cell_type": "code",
      "execution_count": 1,
      "metadata": {
        "id": "fpOywRVNoiFO"
      },
      "outputs": [],
      "source": [
        "import statsmodels.api as sm\n",
        "import numpy as np\n",
        "import scipy.cluster.hierarchy as sch\n",
        "\n",
        "# Load built-in dataset\n",
        "data = sm.datasets.star98.load_pandas().data\n",
        "X = data.to_numpy()  # All features"
      ]
    },
    {
      "cell_type": "code",
      "source": [
        "# Compute linkage\n",
        "Z = sch.linkage(X, method='ward')"
      ],
      "metadata": {
        "id": "BVMahc95okKz"
      },
      "execution_count": 2,
      "outputs": []
    },
    {
      "cell_type": "code",
      "source": [
        "# Print linkage matrix (first few rows)\n",
        "print(\"Linkage matrix (sample):\")\n",
        "print(Z[:5])"
      ],
      "metadata": {
        "colab": {
          "base_uri": "https://localhost:8080/"
        },
        "id": "8_wzUuSdone_",
        "outputId": "dbaa3170-0a87-4287-84e0-c54082ad2353"
      },
      "execution_count": 3,
      "outputs": [
        {
          "output_type": "stream",
          "name": "stdout",
          "text": [
            "Linkage matrix (sample):\n",
            "[[ 19.         155.          84.52653944   2.        ]\n",
            " [130.         232.         154.81331525   2.        ]\n",
            " [ 80.         139.         215.77089634   2.        ]\n",
            " [ 20.         213.         219.40938281   2.        ]\n",
            " [100.         147.         252.77094939   2.        ]]\n"
          ]
        }
      ]
    },
    {
      "cell_type": "code",
      "source": [],
      "metadata": {
        "id": "YNhXwe9Koop5"
      },
      "execution_count": null,
      "outputs": []
    }
  ]
}